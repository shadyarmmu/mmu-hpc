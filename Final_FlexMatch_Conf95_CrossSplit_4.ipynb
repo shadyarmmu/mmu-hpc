{
  "nbformat": 4,
  "nbformat_minor": 0,
  "metadata": {
    "colab": {
      "provenance": [],
      "machine_shape": "hm",
      "gpuType": "L4",
      "authorship_tag": "ABX9TyO4rk6PMAZZscJAHdKGjOri",
      "include_colab_link": true
    },
    "kernelspec": {
      "name": "python3",
      "display_name": "Python 3"
    },
    "language_info": {
      "name": "python"
    },
    "accelerator": "GPU"
  },
  "cells": [
    {
      "cell_type": "markdown",
      "metadata": {
        "id": "view-in-github",
        "colab_type": "text"
      },
      "source": [
        "<a href=\"https://colab.research.google.com/github/shadyarmmu/mmu-hpc/blob/main/Final_FlexMatch_Conf95_CrossSplit_4.ipynb\" target=\"_parent\"><img src=\"https://colab.research.google.com/assets/colab-badge.svg\" alt=\"Open In Colab\"/></a>"
      ]
    },
    {
      "cell_type": "code",
      "execution_count": null,
      "metadata": {
        "colab": {
          "base_uri": "https://localhost:8080/"
        },
        "id": "mHqHH6y27dG6",
        "outputId": "ba7063de-f196-4933-e894-10ae4722a281"
      },
      "outputs": [
        {
          "output_type": "stream",
          "name": "stdout",
          "text": [
            "Drive already mounted at /content/gdrive; to attempt to forcibly remount, call drive.mount(\"/content/gdrive\", force_remount=True).\n"
          ]
        }
      ],
      "source": [
        "from google.colab import drive\n",
        "drive.mount('/content/gdrive')"
      ]
    },
    {
      "cell_type": "code",
      "source": [
        "!unzip -q -P unlocked308BR /content/gdrive/MyDrive/DeepLearning/DFUC2021_trainset_210427.zip -d dfu_train"
      ],
      "metadata": {
        "id": "gxG_zoj676Vr"
      },
      "execution_count": null,
      "outputs": []
    },
    {
      "cell_type": "code",
      "source": [
        "!unzip -q -P sigmoid608KL /content/gdrive/MyDrive/DeepLearning/DFUC2021_testing_release.zip -d dfu_test"
      ],
      "metadata": {
        "id": "BAmWe5s177od"
      },
      "execution_count": null,
      "outputs": []
    },
    {
      "cell_type": "code",
      "source": [
        "#installing torch\n",
        "!pip install lightning-utilities\n",
        "!pip install torchmetrics --no-deps"
      ],
      "metadata": {
        "id": "6dN5rX7EW7SD"
      },
      "execution_count": null,
      "outputs": []
    },
    {
      "cell_type": "markdown",
      "source": [
        "#Importing the libries"
      ],
      "metadata": {
        "id": "zq92VpRowKuu"
      }
    },
    {
      "cell_type": "code",
      "source": [
        "\n",
        "import pandas as pd\n",
        "import numpy as np\n",
        "import os\n",
        "import shutil\n",
        "import matplotlib.pyplot as plt\n",
        "import seaborn as sns\n",
        "from PIL import Image\n",
        "from tqdm import tqdm\n",
        "\n",
        "import torch\n",
        "import torch.nn as nn\n",
        "import torch.optim as optim\n",
        "from torch.utils.data import Dataset, DataLoader\n",
        "from torchvision import transforms, models\n",
        "import torch.nn.functional as F\n",
        "\n",
        "from sklearn.model_selection import train_test_split, StratifiedKFold\n",
        "from sklearn.metrics import accuracy_score, f1_score, confusion_matrix\n",
        "\n",
        "print(\"PyTorch Version:\", torch.__version__)\n",
        "print(\"Libraries imported successfully!\")"
      ],
      "metadata": {
        "colab": {
          "base_uri": "https://localhost:8080/"
        },
        "id": "WOIcNMlm0XSr",
        "outputId": "9107487e-ad66-46f4-d598-9b32c1c20683"
      },
      "execution_count": null,
      "outputs": [
        {
          "output_type": "stream",
          "name": "stdout",
          "text": [
            "PyTorch Version: 2.6.0+cu124\n",
            "Libraries imported successfully!\n"
          ]
        }
      ]
    },
    {
      "cell_type": "markdown",
      "source": [
        "# Estabulishing Global variables"
      ],
      "metadata": {
        "id": "9eVS4Ud1wPFn"
      }
    },
    {
      "cell_type": "code",
      "source": [
        "BATCH_SIZE = 16\n",
        "UNLABELED_BATCH_SIZE = BATCH_SIZE * 7\n",
        "IMG_HEIGHT = 224\n",
        "IMG_WIDTH = 224\n",
        "CONFIDENCE_THRESHOLD = 0.85\n",
        "SEED = 42\n",
        "N_SPLITS = 4 # Number of folds for cross-validation\n",
        "NUM_EPOCHS = 50 # Number of epochs to train for EACH fold\n",
        "LAMBDA_U = 1.0  # Weight for the consistency loss\n",
        "\n",
        "#Setting seeds\n",
        "np.random.seed(SEED)\n",
        "torch.manual_seed(SEED)\n",
        "if torch.cuda.is_available():\n",
        "    torch.cuda.manual_seed_all(SEED)\n",
        "\n",
        "# Set device\n",
        "DEVICE = torch.device(\"cuda\" if torch.cuda.is_available() else \"cpu\")\n",
        "print(f\"Using device: {DEVICE}\")"
      ],
      "metadata": {
        "colab": {
          "base_uri": "https://localhost:8080/"
        },
        "id": "SG59PyWw2GH2",
        "outputId": "d2af4985-210b-4e59-912b-9391f1ad0cf2"
      },
      "execution_count": null,
      "outputs": [
        {
          "output_type": "stream",
          "name": "stdout",
          "text": [
            "Using device: cuda\n"
          ]
        }
      ]
    },
    {
      "cell_type": "markdown",
      "source": [
        "# Loading the data and K-Folding"
      ],
      "metadata": {
        "id": "lyxEHyF4wVak"
      }
    },
    {
      "cell_type": "code",
      "source": [
        "TRAIN_IMG_DIR = \"/content/dfu_train/DFUC2021_train/images\"\n",
        "CSV_FILE = \"/content/dfu_train/DFUC2021_train/train.csv\"\n",
        "CLASS_NAMES = ['none', 'infection', 'ischaemia', 'both']\n",
        "NUM_CLASSES = len(CLASS_NAMES)\n",
        "\n",
        "# Loadingg the training data metadata\n",
        "df = pd.read_csv(CSV_FILE)\n",
        "print(\"--- Successfully loaded train.csv ---\")\n",
        "\n",
        "# Separating labeled and unlabeled data\n",
        "labeled_df = df[df['none'].notna()].copy()\n",
        "unlabeled_df = df[df['none'].isna()][['image']].copy()\n",
        "\n",
        "print(f\"\\nTotal examples: {len(df)}\")\n",
        "print(f\"Number of labeled examples to be split: {len(labeled_df)}\")\n",
        "print(f\"Number of unlabeled examples for training: {len(unlabeled_df)}\")\n",
        "\n",
        "# Converting one-hot encoded labels to a single integer label column\n",
        "labeled_df['label'] = np.argmax(labeled_df[CLASS_NAMES].values, axis=1)\n",
        "\n",
        "# Seting up K-Fold Cross-Validation\n",
        "skf = StratifiedKFold(n_splits=N_SPLITS, shuffle=True, random_state=SEED)\n",
        "print(f\"\\nInitialized StratifiedKFold with {N_SPLITS} splits.\")"
      ],
      "metadata": {
        "colab": {
          "base_uri": "https://localhost:8080/"
        },
        "id": "5q_ybDWJ2GRl",
        "outputId": "9cd0ed45-b094-468b-f5f9-7a8205573024"
      },
      "execution_count": null,
      "outputs": [
        {
          "output_type": "stream",
          "name": "stdout",
          "text": [
            "--- Successfully loaded train.csv ---\n",
            "\n",
            "Total examples: 9949\n",
            "Number of labeled examples to be split: 5955\n",
            "Number of unlabeled examples for training: 3994\n",
            "\n",
            "Initialized StratifiedKFold with 4 splits.\n"
          ]
        }
      ]
    },
    {
      "cell_type": "markdown",
      "source": [
        "# dataset augmentation and creating custom datasets"
      ],
      "metadata": {
        "id": "na_F7Y9bwhMd"
      }
    },
    {
      "cell_type": "code",
      "source": [
        "\n",
        "# Image Transformations and\n",
        "mean = [0.485, 0.456, 0.406]\n",
        "std = [0.229, 0.224, 0.225]\n",
        "\n",
        "transform_weak = transforms.Compose([\n",
        "    transforms.Resize((IMG_WIDTH + 30, IMG_HEIGHT + 30)),\n",
        "    transforms.RandomCrop((IMG_HEIGHT, IMG_WIDTH)),\n",
        "    transforms.RandomHorizontalFlip(),\n",
        "    transforms.ToTensor(),\n",
        "    transforms.Normalize(mean, std)\n",
        "])\n",
        "\n",
        "transform_strong = transforms.Compose([\n",
        "    transforms.Resize((IMG_WIDTH + 30, IMG_HEIGHT + 30)),\n",
        "    transforms.RandomCrop((IMG_HEIGHT, IMG_WIDTH)),\n",
        "    transforms.RandomHorizontalFlip(),\n",
        "    transforms.RandAugment(num_ops=2, magnitude=10),\n",
        "    transforms.ToTensor(),\n",
        "    transforms.Normalize(mean, std)\n",
        "])\n",
        "\n",
        "transform_val = transforms.Compose([\n",
        "    transforms.Resize((IMG_HEIGHT, IMG_WIDTH)),\n",
        "    transforms.ToTensor(),\n",
        "    transforms.Normalize(mean, std)\n",
        "])\n",
        "\n",
        "# Custom Dataset Classes\n",
        "class LabeledDFUCDataset(Dataset):\n",
        "    \"\"\"Dataset for labeled data. Returns (image, label) pairs.\"\"\"\n",
        "    def __init__(self, df, img_dir, transform):\n",
        "        self.df = df\n",
        "        self.img_dir = img_dir\n",
        "        self.transform = transform\n",
        "        self.image_files = self.df['image'].values\n",
        "        self.labels = self.df['label'].values\n",
        "\n",
        "    def __len__(self):\n",
        "        return len(self.df)\n",
        "\n",
        "    def __getitem__(self, idx):\n",
        "        img_path = os.path.join(self.img_dir, self.image_files[idx])\n",
        "        image = Image.open(img_path).convert(\"RGB\")\n",
        "        image = self.transform(image)\n",
        "        label = torch.tensor(self.labels[idx], dtype=torch.long)\n",
        "        return image, label\n",
        "\n",
        "class UnlabeledDFUCDataset(Dataset):\n",
        "    \"\"\"Dataset for unlabeled data. Returns (weakly_augmented, strongly_augmented) pairs.\"\"\"\n",
        "    def __init__(self, df, img_dir, weak_transform, strong_transform):\n",
        "        self.df = df\n",
        "        self.img_dir = img_dir\n",
        "        self.weak_transform = weak_transform\n",
        "        self.strong_transform = strong_transform\n",
        "        self.image_files = self.df['image'].values\n",
        "\n",
        "    def __len__(self):\n",
        "        return len(self.df)\n",
        "\n",
        "    def __getitem__(self, idx):\n",
        "        img_path = os.path.join(self.img_dir, self.image_files[idx])\n",
        "        image = Image.open(img_path).convert(\"RGB\")\n",
        "        img_weak = self.weak_transform(image)\n",
        "        img_strong = self.strong_transform(image)\n",
        "        return img_weak, img_strong\n",
        "\n",
        "# Model Creation Function\n",
        "def create_model(num_classes):\n",
        "    \"\"\"Creates a pre-trained EfficientNet-B1 model with a custom classifier.\"\"\"\n",
        "    model = models.efficientnet_b1(weights=models.EfficientNet_B1_Weights.IMAGENET1K_V1)\n",
        "    for param in model.parameters():\n",
        "        param.requires_grad = False\n",
        "\n",
        "    num_ftrs = model.classifier[1].in_features\n",
        "    model.classifier = nn.Sequential(\n",
        "        nn.Dropout(p=0.2, inplace=True),\n",
        "        nn.Linear(num_ftrs, num_classes)\n",
        "    )\n",
        "    return model\n",
        "\n",
        "# Loss Functions\n",
        "supervised_loss_fn = nn.CrossEntropyLoss()\n",
        "consistency_loss_fn = nn.MSELoss()\n"
      ],
      "metadata": {
        "id": "8LjGiq0F2Jzb"
      },
      "execution_count": null,
      "outputs": []
    },
    {
      "cell_type": "markdown",
      "source": [
        "#The Loop"
      ],
      "metadata": {
        "id": "0tvOCHjiwlyt"
      }
    },
    {
      "cell_type": "code",
      "source": [
        "fold_histories = {}\n",
        "best_fold_accuracies = {}\n",
        "\n",
        "# Main K-Fold Loop\n",
        "for fold, (train_idx, val_idx) in enumerate(skf.split(labeled_df, labeled_df['label'])):\n",
        "    print(f\"\\n{'='*25} FOLD {fold + 1}/{N_SPLITS} {'='*25}\")\n",
        "\n",
        "    # 1. Create Data for the Current Fold\n",
        "    train_labeled_df = labeled_df.iloc[train_idx]\n",
        "    val_df = labeled_df.iloc[val_idx]\n",
        "\n",
        "    print(f\"Labeled training set size: {len(train_labeled_df)}\")\n",
        "    print(f\"Validation set size: {len(val_df)}\")\n",
        "\n",
        "    # Create Datasets and DataLoaders\n",
        "    train_labeled_dataset = LabeledDFUCDataset(train_labeled_df, TRAIN_IMG_DIR, transform_weak)\n",
        "    train_unlabeled_dataset = UnlabeledDFUCDataset(unlabeled_df, TRAIN_IMG_DIR, transform_weak, transform_strong)\n",
        "    val_dataset = LabeledDFUCDataset(val_df, TRAIN_IMG_DIR, transform_val)\n",
        "\n",
        "    train_labeled_loader = DataLoader(train_labeled_dataset, batch_size=BATCH_SIZE, shuffle=True, num_workers=2, pin_memory=True)\n",
        "    train_unlabeled_loader = DataLoader(train_unlabeled_dataset, batch_size=UNLABELED_BATCH_SIZE, shuffle=True, num_workers=2, pin_memory=True)\n",
        "    val_loader = DataLoader(val_dataset, batch_size=BATCH_SIZE, shuffle=False, num_workers=2, pin_memory=True)\n",
        "\n",
        "    # 2. Re-initialize Model, Optimizer, and Scheduler for each Fold\n",
        "    print(\"\\nRe-initializing model for new fold...\")\n",
        "    model = create_model(num_classes=NUM_CLASSES)\n",
        "    model.to(DEVICE)\n",
        "\n",
        "    trainable_params = filter(lambda p: p.requires_grad, model.parameters())\n",
        "    optimizer = optim.AdamW(trainable_params, lr=3e-4, weight_decay=1e-5)\n",
        "    scheduler = optim.lr_scheduler.CosineAnnealingLR(optimizer, T_max=NUM_EPOCHS, eta_min=1e-6)\n",
        "\n",
        "    # 3. Run the Training and Validation Loop\n",
        "    BEST_MODEL_PATH = f\"best_model_fold_{fold+1}.pth\"\n",
        "    best_val_accuracy = 0.0\n",
        "    history = {'train_loss': [], 'val_loss': [], 'val_acc': [], 'val_f1': []}\n",
        "\n",
        "    for epoch in range(NUM_EPOCHS):\n",
        "        print(f\"\\n--- Epoch {epoch+1}/{NUM_EPOCHS} ---\")\n",
        "        model.train()\n",
        "        total_loss = 0\n",
        "        unlabeled_iter = iter(train_unlabeled_loader)\n",
        "        progress_bar = tqdm(train_labeled_loader, desc=f\"Training Fold {fold+1}\")\n",
        "\n",
        "        for batch_idx, (labeled_images, true_labels) in enumerate(progress_bar):\n",
        "            try:\n",
        "                unlabeled_weak, unlabeled_strong = next(unlabeled_iter)\n",
        "            except StopIteration:\n",
        "                unlabeled_iter = iter(train_unlabeled_loader)\n",
        "                unlabeled_weak, unlabeled_strong = next(unlabeled_iter)\n",
        "\n",
        "            labeled_images, true_labels = labeled_images.to(DEVICE), true_labels.to(DEVICE)\n",
        "            unlabeled_weak, unlabeled_strong = unlabeled_weak.to(DEVICE), unlabeled_strong.to(DEVICE)\n",
        "\n",
        "            # Supervised Loss\n",
        "            labeled_preds = model(labeled_images)\n",
        "            loss_sup = supervised_loss_fn(labeled_preds, true_labels)\n",
        "\n",
        "            # Consistency Loss (FlexMatch)\n",
        "            with torch.no_grad():\n",
        "                unlabeled_weak_preds = model(unlabeled_weak)\n",
        "                pseudo_label_probs = torch.softmax(unlabeled_weak_preds, dim=1)\n",
        "                max_probs, pseudo_labels = torch.max(pseudo_label_probs, dim=1)\n",
        "                mask = max_probs.ge(CONFIDENCE_THRESHOLD).float()\n",
        "\n",
        "            unlabeled_strong_preds = model(unlabeled_strong)\n",
        "            loss_unsup = (F.cross_entropy(unlabeled_strong_preds, pseudo_labels, reduction='none') * mask).mean()\n",
        "\n",
        "            # Combine Losses and Backpropagate\n",
        "            total_batch_loss = loss_sup + (LAMBDA_U * loss_unsup)\n",
        "            optimizer.zero_grad()\n",
        "            total_batch_loss.backward()\n",
        "            optimizer.step()\n",
        "\n",
        "            total_loss += total_batch_loss.item()\n",
        "            progress_bar.set_postfix({'Loss': f\"{total_batch_loss.item():.4f}\", 'Mask': f\"{mask.mean().item():.2f}\"})\n",
        "\n",
        "        scheduler.step()\n",
        "        avg_train_loss = total_loss / len(train_labeled_loader)\n",
        "        history['train_loss'].append(avg_train_loss)\n",
        "\n",
        "        # Validation Phase\n",
        "        model.eval()\n",
        "        val_loss, all_preds, all_labels = 0, [], []\n",
        "        with torch.no_grad():\n",
        "            for val_images, val_labels in val_loader:\n",
        "                val_images, val_labels = val_images.to(DEVICE), val_labels.to(DEVICE)\n",
        "                outputs = model(val_images)\n",
        "                loss = supervised_loss_fn(outputs, val_labels)\n",
        "                val_loss += loss.item()\n",
        "                _, predicted = torch.max(outputs.data, 1)\n",
        "                all_preds.extend(predicted.cpu().numpy())\n",
        "                all_labels.extend(val_labels.cpu().numpy())\n",
        "\n",
        "        avg_val_loss = val_loss / len(val_loader)\n",
        "        val_accuracy = accuracy_score(all_labels, all_preds)\n",
        "        val_f1 = f1_score(all_labels, all_preds, average='macro')\n",
        "        history['val_loss'].append(avg_val_loss)\n",
        "        history['val_acc'].append(val_accuracy)\n",
        "        history['val_f1'].append(val_f1)\n",
        "\n",
        "        print(f\"Train Loss: {avg_train_loss:.4f} | Val Loss: {avg_val_loss:.4f} | Val Acc: {val_accuracy:.4f} | Val F1: {val_f1:.4f}\")\n",
        "\n",
        "        if val_accuracy > best_val_accuracy:\n",
        "            best_val_accuracy = val_accuracy\n",
        "            torch.save(model.state_dict(), BEST_MODEL_PATH)\n",
        "            print(f\"🎉 New best model for fold {fold+1} saved to {BEST_MODEL_PATH} with accuracy: {best_val_accuracy:.4f}\")\n",
        "\n",
        "    fold_histories[f\"fold_{fold+1}\"] = history\n",
        "    best_fold_accuracies[f\"fold_{fold+1}\"] = best_val_accuracy\n",
        "    print(f\"Finished training for fold {fold+1}. Best validation accuracy: {best_val_accuracy:.4f}\")\n",
        "\n",
        "# --- Final Summary ---\n",
        "print(\"\\n\\n\" + \"=\"*55)\n",
        "print(\"✅ CROSS-VALIDATION TRAINING COMPLETE\")\n",
        "print(\"=\"*55)\n",
        "for fold, acc in best_fold_accuracies.items():\n",
        "    print(f\"Best Validation Accuracy for {fold}: {acc:.4f}\")\n",
        "\n",
        "mean_accuracy = np.mean(list(best_fold_accuracies.values()))\n",
        "print(f\"\\nAverage Best Validation Accuracy across all folds: {mean_accuracy:.4f}\")\n",
        "\n"
      ],
      "metadata": {
        "colab": {
          "base_uri": "https://localhost:8080/"
        },
        "id": "Q2PxRkna2TFX",
        "outputId": "b20db42c-5b87-48a3-bfc0-ccc65cff2925"
      },
      "execution_count": null,
      "outputs": [
        {
          "metadata": {
            "tags": null
          },
          "name": "stdout",
          "output_type": "stream",
          "text": [
            "\n",
            "========================= FOLD 1/4 =========================\n",
            "Labeled training set size: 4466\n",
            "Validation set size: 1489\n",
            "\n",
            "Re-initializing model for new fold...\n",
            "\n",
            "--- Epoch 1/50 ---\n"
          ]
        },
        {
          "metadata": {
            "tags": null
          },
          "name": "stderr",
          "output_type": "stream",
          "text": [
            "Training Fold 1: 100%|██████████| 280/280 [01:43<00:00,  2.69it/s, Loss=0.8922, Mask=0.01]\n"
          ]
        },
        {
          "metadata": {
            "tags": null
          },
          "name": "stdout",
          "output_type": "stream",
          "text": [
            "Train Loss: 0.9937 | Val Loss: 0.9314 | Val Acc: 0.6158 | Val F1: 0.4437\n",
            "🎉 New best model for fold 1 saved to best_model_fold_1.pth with accuracy: 0.6158\n",
            "\n",
            "--- Epoch 2/50 ---\n"
          ]
        },
        {
          "metadata": {
            "tags": null
          },
          "name": "stderr",
          "output_type": "stream",
          "text": [
            "Training Fold 1: 100%|██████████| 280/280 [01:43<00:00,  2.71it/s, Loss=0.8917, Mask=0.05]\n"
          ]
        },
        {
          "metadata": {
            "tags": null
          },
          "name": "stdout",
          "output_type": "stream",
          "text": [
            "Train Loss: 0.8611 | Val Loss: 0.8667 | Val Acc: 0.6347 | Val F1: 0.5022\n",
            "🎉 New best model for fold 1 saved to best_model_fold_1.pth with accuracy: 0.6347\n",
            "\n",
            "--- Epoch 3/50 ---\n"
          ]
        },
        {
          "metadata": {
            "tags": null
          },
          "name": "stderr",
          "output_type": "stream",
          "text": [
            "Training Fold 1: 100%|██████████| 280/280 [01:42<00:00,  2.73it/s, Loss=0.9933, Mask=0.10]\n"
          ]
        },
        {
          "metadata": {
            "tags": null
          },
          "name": "stdout",
          "output_type": "stream",
          "text": [
            "Train Loss: 0.8384 | Val Loss: 0.8315 | Val Acc: 0.6481 | Val F1: 0.5334\n",
            "🎉 New best model for fold 1 saved to best_model_fold_1.pth with accuracy: 0.6481\n",
            "\n",
            "--- Epoch 4/50 ---\n"
          ]
        },
        {
          "metadata": {
            "tags": null
          },
          "name": "stderr",
          "output_type": "stream",
          "text": [
            "Training Fold 1: 100%|██████████| 280/280 [01:43<00:00,  2.72it/s, Loss=0.9698, Mask=0.10]\n"
          ]
        },
        {
          "metadata": {
            "tags": null
          },
          "name": "stdout",
          "output_type": "stream",
          "text": [
            "Train Loss: 0.8144 | Val Loss: 0.8106 | Val Acc: 0.6548 | Val F1: 0.5835\n",
            "🎉 New best model for fold 1 saved to best_model_fold_1.pth with accuracy: 0.6548\n",
            "\n",
            "--- Epoch 5/50 ---\n"
          ]
        },
        {
          "metadata": {
            "tags": null
          },
          "name": "stderr",
          "output_type": "stream",
          "text": [
            "Training Fold 1: 100%|██████████| 280/280 [01:43<00:00,  2.71it/s, Loss=1.6151, Mask=0.12]\n"
          ]
        },
        {
          "metadata": {
            "tags": null
          },
          "name": "stdout",
          "output_type": "stream",
          "text": [
            "Train Loss: 0.8309 | Val Loss: 0.7968 | Val Acc: 0.6535 | Val F1: 0.5806\n",
            "\n",
            "--- Epoch 6/50 ---\n"
          ]
        },
        {
          "metadata": {
            "tags": null
          },
          "name": "stderr",
          "output_type": "stream",
          "text": [
            "Training Fold 1: 100%|██████████| 280/280 [01:43<00:00,  2.71it/s, Loss=0.6792, Mask=0.12]\n"
          ]
        },
        {
          "metadata": {
            "tags": null
          },
          "name": "stdout",
          "output_type": "stream",
          "text": [
            "Train Loss: 0.8303 | Val Loss: 0.7865 | Val Acc: 0.6528 | Val F1: 0.5786\n",
            "\n",
            "--- Epoch 7/50 ---\n"
          ]
        },
        {
          "metadata": {
            "tags": null
          },
          "name": "stderr",
          "output_type": "stream",
          "text": [
            "Training Fold 1: 100%|██████████| 280/280 [01:43<00:00,  2.71it/s, Loss=0.8090, Mask=0.15]\n"
          ]
        },
        {
          "metadata": {
            "tags": null
          },
          "name": "stdout",
          "output_type": "stream",
          "text": [
            "Train Loss: 0.8166 | Val Loss: 0.7749 | Val Acc: 0.6669 | Val F1: 0.5949\n",
            "🎉 New best model for fold 1 saved to best_model_fold_1.pth with accuracy: 0.6669\n",
            "\n",
            "--- Epoch 8/50 ---\n"
          ]
        },
        {
          "metadata": {
            "tags": null
          },
          "name": "stderr",
          "output_type": "stream",
          "text": [
            "Training Fold 1: 100%|██████████| 280/280 [01:43<00:00,  2.71it/s, Loss=1.0248, Mask=0.18]\n"
          ]
        },
        {
          "metadata": {
            "tags": null
          },
          "name": "stdout",
          "output_type": "stream",
          "text": [
            "Train Loss: 0.8071 | Val Loss: 0.7732 | Val Acc: 0.6702 | Val F1: 0.6194\n",
            "🎉 New best model for fold 1 saved to best_model_fold_1.pth with accuracy: 0.6702\n",
            "\n",
            "--- Epoch 9/50 ---\n"
          ]
        },
        {
          "metadata": {
            "tags": null
          },
          "name": "stderr",
          "output_type": "stream",
          "text": [
            "Training Fold 1: 100%|██████████| 280/280 [01:43<00:00,  2.71it/s, Loss=0.6496, Mask=0.19]\n"
          ]
        },
        {
          "metadata": {
            "tags": null
          },
          "name": "stdout",
          "output_type": "stream",
          "text": [
            "Train Loss: 0.8018 | Val Loss: 0.7664 | Val Acc: 0.6702 | Val F1: 0.6187\n",
            "\n",
            "--- Epoch 10/50 ---\n"
          ]
        },
        {
          "metadata": {
            "tags": null
          },
          "name": "stderr",
          "output_type": "stream",
          "text": [
            "Training Fold 1: 100%|██████████| 280/280 [01:42<00:00,  2.73it/s, Loss=1.0571, Mask=0.12]\n"
          ]
        },
        {
          "metadata": {
            "tags": null
          },
          "name": "stdout",
          "output_type": "stream",
          "text": [
            "Train Loss: 0.8130 | Val Loss: 0.7600 | Val Acc: 0.6797 | Val F1: 0.6182\n",
            "🎉 New best model for fold 1 saved to best_model_fold_1.pth with accuracy: 0.6797\n",
            "\n",
            "--- Epoch 11/50 ---\n"
          ]
        },
        {
          "metadata": {
            "tags": null
          },
          "name": "stderr",
          "output_type": "stream",
          "text": [
            "Training Fold 1: 100%|██████████| 280/280 [01:43<00:00,  2.71it/s, Loss=1.0067, Mask=0.15]\n"
          ]
        },
        {
          "metadata": {
            "tags": null
          },
          "name": "stdout",
          "output_type": "stream",
          "text": [
            "Train Loss: 0.7949 | Val Loss: 0.7570 | Val Acc: 0.6689 | Val F1: 0.6197\n",
            "\n",
            "--- Epoch 12/50 ---\n"
          ]
        },
        {
          "metadata": {
            "tags": null
          },
          "name": "stderr",
          "output_type": "stream",
          "text": [
            "Training Fold 1: 100%|██████████| 280/280 [01:43<00:00,  2.72it/s, Loss=0.9828, Mask=0.16]\n"
          ]
        },
        {
          "metadata": {
            "tags": null
          },
          "name": "stdout",
          "output_type": "stream",
          "text": [
            "Train Loss: 0.7984 | Val Loss: 0.7626 | Val Acc: 0.6770 | Val F1: 0.6331\n",
            "\n",
            "--- Epoch 13/50 ---\n"
          ]
        },
        {
          "metadata": {
            "tags": null
          },
          "name": "stderr",
          "output_type": "stream",
          "text": [
            "Training Fold 1: 100%|██████████| 280/280 [01:43<00:00,  2.71it/s, Loss=0.7812, Mask=0.14]\n"
          ]
        },
        {
          "metadata": {
            "tags": null
          },
          "name": "stdout",
          "output_type": "stream",
          "text": [
            "Train Loss: 0.7964 | Val Loss: 0.7513 | Val Acc: 0.6803 | Val F1: 0.6359\n",
            "🎉 New best model for fold 1 saved to best_model_fold_1.pth with accuracy: 0.6803\n",
            "\n",
            "--- Epoch 14/50 ---\n"
          ]
        },
        {
          "metadata": {
            "tags": null
          },
          "name": "stderr",
          "output_type": "stream",
          "text": [
            "Training Fold 1: 100%|██████████| 280/280 [01:42<00:00,  2.72it/s, Loss=1.2098, Mask=0.19]\n"
          ]
        },
        {
          "metadata": {
            "tags": null
          },
          "name": "stdout",
          "output_type": "stream",
          "text": [
            "Train Loss: 0.8039 | Val Loss: 0.7494 | Val Acc: 0.6770 | Val F1: 0.6227\n",
            "\n",
            "--- Epoch 15/50 ---\n"
          ]
        },
        {
          "metadata": {
            "tags": null
          },
          "name": "stderr",
          "output_type": "stream",
          "text": [
            "Training Fold 1: 100%|██████████| 280/280 [01:43<00:00,  2.71it/s, Loss=1.1431, Mask=0.21]\n"
          ]
        },
        {
          "metadata": {
            "tags": null
          },
          "name": "stdout",
          "output_type": "stream",
          "text": [
            "Train Loss: 0.8016 | Val Loss: 0.7461 | Val Acc: 0.6810 | Val F1: 0.6311\n",
            "🎉 New best model for fold 1 saved to best_model_fold_1.pth with accuracy: 0.6810\n",
            "\n",
            "--- Epoch 16/50 ---\n"
          ]
        },
        {
          "metadata": {
            "tags": null
          },
          "name": "stderr",
          "output_type": "stream",
          "text": [
            "Training Fold 1: 100%|██████████| 280/280 [01:42<00:00,  2.73it/s, Loss=1.2017, Mask=0.24]\n"
          ]
        },
        {
          "metadata": {
            "tags": null
          },
          "name": "stdout",
          "output_type": "stream",
          "text": [
            "Train Loss: 0.7908 | Val Loss: 0.7483 | Val Acc: 0.6756 | Val F1: 0.6279\n",
            "\n",
            "--- Epoch 17/50 ---\n"
          ]
        },
        {
          "metadata": {
            "tags": null
          },
          "name": "stderr",
          "output_type": "stream",
          "text": [
            "Training Fold 1: 100%|██████████| 280/280 [01:42<00:00,  2.72it/s, Loss=1.1050, Mask=0.25]\n"
          ]
        },
        {
          "metadata": {
            "tags": null
          },
          "name": "stdout",
          "output_type": "stream",
          "text": [
            "Train Loss: 0.8072 | Val Loss: 0.7456 | Val Acc: 0.6756 | Val F1: 0.6250\n",
            "\n",
            "--- Epoch 18/50 ---\n"
          ]
        },
        {
          "metadata": {
            "tags": null
          },
          "name": "stderr",
          "output_type": "stream",
          "text": [
            "Training Fold 1: 100%|██████████| 280/280 [01:43<00:00,  2.72it/s, Loss=0.9075, Mask=0.16]\n"
          ]
        },
        {
          "metadata": {
            "tags": null
          },
          "name": "stdout",
          "output_type": "stream",
          "text": [
            "Train Loss: 0.7937 | Val Loss: 0.7574 | Val Acc: 0.6736 | Val F1: 0.6231\n",
            "\n",
            "--- Epoch 19/50 ---\n"
          ]
        },
        {
          "metadata": {
            "tags": null
          },
          "name": "stderr",
          "output_type": "stream",
          "text": [
            "Training Fold 1: 100%|██████████| 280/280 [01:43<00:00,  2.72it/s, Loss=0.3868, Mask=0.17]\n"
          ]
        },
        {
          "metadata": {
            "tags": null
          },
          "name": "stdout",
          "output_type": "stream",
          "text": [
            "Train Loss: 0.8007 | Val Loss: 0.7527 | Val Acc: 0.6723 | Val F1: 0.6341\n",
            "\n",
            "--- Epoch 20/50 ---\n"
          ]
        },
        {
          "metadata": {
            "tags": null
          },
          "name": "stderr",
          "output_type": "stream",
          "text": [
            "Training Fold 1: 100%|██████████| 280/280 [01:43<00:00,  2.71it/s, Loss=0.4339, Mask=0.21]\n"
          ]
        },
        {
          "metadata": {
            "tags": null
          },
          "name": "stdout",
          "output_type": "stream",
          "text": [
            "Train Loss: 0.7934 | Val Loss: 0.7507 | Val Acc: 0.6608 | Val F1: 0.6282\n",
            "\n",
            "--- Epoch 21/50 ---\n"
          ]
        },
        {
          "metadata": {
            "tags": null
          },
          "name": "stderr",
          "output_type": "stream",
          "text": [
            "Training Fold 1: 100%|██████████| 280/280 [01:43<00:00,  2.71it/s, Loss=0.9155, Mask=0.26]\n"
          ]
        },
        {
          "metadata": {
            "tags": null
          },
          "name": "stdout",
          "output_type": "stream",
          "text": [
            "Train Loss: 0.7815 | Val Loss: 0.7373 | Val Acc: 0.6803 | Val F1: 0.6381\n",
            "\n",
            "--- Epoch 22/50 ---\n"
          ]
        },
        {
          "metadata": {
            "tags": null
          },
          "name": "stderr",
          "output_type": "stream",
          "text": [
            "Training Fold 1: 100%|██████████| 280/280 [01:43<00:00,  2.71it/s, Loss=1.2519, Mask=0.20]\n"
          ]
        },
        {
          "metadata": {
            "tags": null
          },
          "name": "stdout",
          "output_type": "stream",
          "text": [
            "Train Loss: 0.7966 | Val Loss: 0.7378 | Val Acc: 0.6803 | Val F1: 0.6348\n",
            "\n",
            "--- Epoch 23/50 ---\n"
          ]
        },
        {
          "metadata": {
            "tags": null
          },
          "name": "stderr",
          "output_type": "stream",
          "text": [
            "Training Fold 1: 100%|██████████| 280/280 [01:42<00:00,  2.73it/s, Loss=2.1192, Mask=0.21]\n"
          ]
        },
        {
          "metadata": {
            "tags": null
          },
          "name": "stdout",
          "output_type": "stream",
          "text": [
            "Train Loss: 0.7982 | Val Loss: 0.7383 | Val Acc: 0.6770 | Val F1: 0.6363\n",
            "\n",
            "--- Epoch 24/50 ---\n"
          ]
        },
        {
          "metadata": {
            "tags": null
          },
          "name": "stderr",
          "output_type": "stream",
          "text": [
            "Training Fold 1: 100%|██████████| 280/280 [01:42<00:00,  2.73it/s, Loss=0.4139, Mask=0.18]\n"
          ]
        },
        {
          "metadata": {
            "tags": null
          },
          "name": "stdout",
          "output_type": "stream",
          "text": [
            "Train Loss: 0.7885 | Val Loss: 0.7356 | Val Acc: 0.6823 | Val F1: 0.6387\n",
            "🎉 New best model for fold 1 saved to best_model_fold_1.pth with accuracy: 0.6823\n",
            "\n",
            "--- Epoch 25/50 ---\n"
          ]
        },
        {
          "metadata": {
            "tags": null
          },
          "name": "stderr",
          "output_type": "stream",
          "text": [
            "Training Fold 1: 100%|██████████| 280/280 [01:43<00:00,  2.71it/s, Loss=0.9098, Mask=0.23]\n"
          ]
        },
        {
          "metadata": {
            "tags": null
          },
          "name": "stdout",
          "output_type": "stream",
          "text": [
            "Train Loss: 0.7910 | Val Loss: 0.7303 | Val Acc: 0.6830 | Val F1: 0.6468\n",
            "🎉 New best model for fold 1 saved to best_model_fold_1.pth with accuracy: 0.6830\n",
            "\n",
            "--- Epoch 26/50 ---\n"
          ]
        },
        {
          "metadata": {
            "tags": null
          },
          "name": "stderr",
          "output_type": "stream",
          "text": [
            "Training Fold 1: 100%|██████████| 280/280 [01:43<00:00,  2.71it/s, Loss=1.0178, Mask=0.25]\n"
          ]
        },
        {
          "metadata": {
            "tags": null
          },
          "name": "stdout",
          "output_type": "stream",
          "text": [
            "Train Loss: 0.7993 | Val Loss: 0.7325 | Val Acc: 0.6810 | Val F1: 0.6336\n",
            "\n",
            "--- Epoch 27/50 ---\n"
          ]
        },
        {
          "metadata": {
            "tags": null
          },
          "name": "stderr",
          "output_type": "stream",
          "text": [
            "Training Fold 1: 100%|██████████| 280/280 [01:43<00:00,  2.72it/s, Loss=0.8626, Mask=0.18]\n"
          ]
        },
        {
          "metadata": {
            "tags": null
          },
          "name": "stdout",
          "output_type": "stream",
          "text": [
            "Train Loss: 0.7902 | Val Loss: 0.7341 | Val Acc: 0.6850 | Val F1: 0.6496\n",
            "🎉 New best model for fold 1 saved to best_model_fold_1.pth with accuracy: 0.6850\n",
            "\n",
            "--- Epoch 28/50 ---\n"
          ]
        },
        {
          "metadata": {
            "tags": null
          },
          "name": "stderr",
          "output_type": "stream",
          "text": [
            "Training Fold 1: 100%|██████████| 280/280 [01:42<00:00,  2.72it/s, Loss=0.9359, Mask=0.18]\n"
          ]
        },
        {
          "metadata": {
            "tags": null
          },
          "name": "stdout",
          "output_type": "stream",
          "text": [
            "Train Loss: 0.7843 | Val Loss: 0.7213 | Val Acc: 0.6850 | Val F1: 0.6462\n",
            "\n",
            "--- Epoch 29/50 ---\n"
          ]
        },
        {
          "metadata": {
            "tags": null
          },
          "name": "stderr",
          "output_type": "stream",
          "text": [
            "Training Fold 1: 100%|██████████| 280/280 [01:42<00:00,  2.72it/s, Loss=2.9649, Mask=0.18]\n"
          ]
        },
        {
          "metadata": {
            "tags": null
          },
          "name": "stdout",
          "output_type": "stream",
          "text": [
            "Train Loss: 0.7894 | Val Loss: 0.7270 | Val Acc: 0.6857 | Val F1: 0.6336\n",
            "🎉 New best model for fold 1 saved to best_model_fold_1.pth with accuracy: 0.6857\n",
            "\n",
            "--- Epoch 30/50 ---\n"
          ]
        },
        {
          "metadata": {
            "tags": null
          },
          "name": "stderr",
          "output_type": "stream",
          "text": [
            "Training Fold 1: 100%|██████████| 280/280 [01:42<00:00,  2.72it/s, Loss=0.5155, Mask=0.21]\n"
          ]
        },
        {
          "metadata": {
            "tags": null
          },
          "name": "stdout",
          "output_type": "stream",
          "text": [
            "Train Loss: 0.7879 | Val Loss: 0.7312 | Val Acc: 0.6817 | Val F1: 0.6372\n",
            "\n",
            "--- Epoch 31/50 ---\n"
          ]
        },
        {
          "metadata": {
            "tags": null
          },
          "name": "stderr",
          "output_type": "stream",
          "text": [
            "Training Fold 1: 100%|██████████| 280/280 [01:42<00:00,  2.73it/s, Loss=1.9979, Mask=0.22]\n"
          ]
        },
        {
          "metadata": {
            "tags": null
          },
          "name": "stdout",
          "output_type": "stream",
          "text": [
            "Train Loss: 0.7826 | Val Loss: 0.7325 | Val Acc: 0.6763 | Val F1: 0.6367\n",
            "\n",
            "--- Epoch 32/50 ---\n"
          ]
        },
        {
          "metadata": {
            "tags": null
          },
          "name": "stderr",
          "output_type": "stream",
          "text": [
            "Training Fold 1: 100%|██████████| 280/280 [01:42<00:00,  2.73it/s, Loss=1.0262, Mask=0.25]\n"
          ]
        },
        {
          "metadata": {
            "tags": null
          },
          "name": "stdout",
          "output_type": "stream",
          "text": [
            "Train Loss: 0.7939 | Val Loss: 0.7324 | Val Acc: 0.6850 | Val F1: 0.6398\n",
            "\n",
            "--- Epoch 33/50 ---\n"
          ]
        },
        {
          "metadata": {
            "tags": null
          },
          "name": "stderr",
          "output_type": "stream",
          "text": [
            "Training Fold 1: 100%|██████████| 280/280 [01:43<00:00,  2.71it/s, Loss=0.8630, Mask=0.22]\n"
          ]
        },
        {
          "metadata": {
            "tags": null
          },
          "name": "stdout",
          "output_type": "stream",
          "text": [
            "Train Loss: 0.7863 | Val Loss: 0.7326 | Val Acc: 0.6763 | Val F1: 0.6263\n",
            "\n",
            "--- Epoch 34/50 ---\n"
          ]
        },
        {
          "metadata": {
            "tags": null
          },
          "name": "stderr",
          "output_type": "stream",
          "text": [
            "Training Fold 1: 100%|██████████| 280/280 [01:42<00:00,  2.72it/s, Loss=0.9242, Mask=0.28]\n"
          ]
        },
        {
          "metadata": {
            "tags": null
          },
          "name": "stdout",
          "output_type": "stream",
          "text": [
            "Train Loss: 0.7949 | Val Loss: 0.7317 | Val Acc: 0.6844 | Val F1: 0.6418\n",
            "\n",
            "--- Epoch 35/50 ---\n"
          ]
        },
        {
          "output_type": "stream",
          "name": "stderr",
          "text": [
            "Training Fold 1: 100%|██████████| 280/280 [01:43<00:00,  2.71it/s, Loss=1.1242, Mask=0.17]\n"
          ]
        },
        {
          "output_type": "stream",
          "name": "stdout",
          "text": [
            "Train Loss: 0.7760 | Val Loss: 0.7263 | Val Acc: 0.6817 | Val F1: 0.6423\n",
            "\n",
            "--- Epoch 36/50 ---\n"
          ]
        },
        {
          "output_type": "stream",
          "name": "stderr",
          "text": [
            "Training Fold 1: 100%|██████████| 280/280 [01:43<00:00,  2.72it/s, Loss=0.7163, Mask=0.20]\n"
          ]
        },
        {
          "output_type": "stream",
          "name": "stdout",
          "text": [
            "Train Loss: 0.7851 | Val Loss: 0.7298 | Val Acc: 0.6756 | Val F1: 0.6368\n",
            "\n",
            "--- Epoch 37/50 ---\n"
          ]
        },
        {
          "output_type": "stream",
          "name": "stderr",
          "text": [
            "Training Fold 1: 100%|██████████| 280/280 [01:42<00:00,  2.73it/s, Loss=0.9701, Mask=0.21]\n"
          ]
        },
        {
          "output_type": "stream",
          "name": "stdout",
          "text": [
            "Train Loss: 0.7907 | Val Loss: 0.7291 | Val Acc: 0.6844 | Val F1: 0.6426\n",
            "\n",
            "--- Epoch 38/50 ---\n"
          ]
        },
        {
          "output_type": "stream",
          "name": "stderr",
          "text": [
            "Training Fold 1: 100%|██████████| 280/280 [01:43<00:00,  2.71it/s, Loss=0.7202, Mask=0.21]\n"
          ]
        },
        {
          "output_type": "stream",
          "name": "stdout",
          "text": [
            "Train Loss: 0.7736 | Val Loss: 0.7268 | Val Acc: 0.6817 | Val F1: 0.6396\n",
            "\n",
            "--- Epoch 39/50 ---\n"
          ]
        },
        {
          "output_type": "stream",
          "name": "stderr",
          "text": [
            "Training Fold 1: 100%|██████████| 280/280 [01:42<00:00,  2.73it/s, Loss=1.3528, Mask=0.21]\n"
          ]
        },
        {
          "output_type": "stream",
          "name": "stdout",
          "text": [
            "Train Loss: 0.7849 | Val Loss: 0.7379 | Val Acc: 0.6810 | Val F1: 0.6417\n",
            "\n",
            "--- Epoch 40/50 ---\n"
          ]
        },
        {
          "output_type": "stream",
          "name": "stderr",
          "text": [
            "Training Fold 1: 100%|██████████| 280/280 [01:43<00:00,  2.71it/s, Loss=4.1822, Mask=0.25]\n"
          ]
        },
        {
          "output_type": "stream",
          "name": "stdout",
          "text": [
            "Train Loss: 0.7761 | Val Loss: 0.7356 | Val Acc: 0.6743 | Val F1: 0.6248\n",
            "\n",
            "--- Epoch 41/50 ---\n"
          ]
        },
        {
          "output_type": "stream",
          "name": "stderr",
          "text": [
            "Training Fold 1: 100%|██████████| 280/280 [01:43<00:00,  2.71it/s, Loss=0.9594, Mask=0.23]\n"
          ]
        },
        {
          "output_type": "stream",
          "name": "stdout",
          "text": [
            "Train Loss: 0.7955 | Val Loss: 0.7380 | Val Acc: 0.6823 | Val F1: 0.6480\n",
            "\n",
            "--- Epoch 42/50 ---\n"
          ]
        },
        {
          "output_type": "stream",
          "name": "stderr",
          "text": [
            "Training Fold 1: 100%|██████████| 280/280 [01:42<00:00,  2.74it/s, Loss=0.9087, Mask=0.20]\n"
          ]
        },
        {
          "output_type": "stream",
          "name": "stdout",
          "text": [
            "Train Loss: 0.7822 | Val Loss: 0.7299 | Val Acc: 0.6823 | Val F1: 0.6416\n",
            "\n",
            "--- Epoch 43/50 ---\n"
          ]
        },
        {
          "output_type": "stream",
          "name": "stderr",
          "text": [
            "Training Fold 1: 100%|██████████| 280/280 [01:42<00:00,  2.72it/s, Loss=0.5429, Mask=0.22]\n"
          ]
        },
        {
          "output_type": "stream",
          "name": "stdout",
          "text": [
            "Train Loss: 0.7939 | Val Loss: 0.7335 | Val Acc: 0.6823 | Val F1: 0.6432\n",
            "\n",
            "--- Epoch 44/50 ---\n"
          ]
        },
        {
          "output_type": "stream",
          "name": "stderr",
          "text": [
            "Training Fold 1: 100%|██████████| 280/280 [01:42<00:00,  2.73it/s, Loss=0.8239, Mask=0.24]\n"
          ]
        },
        {
          "output_type": "stream",
          "name": "stdout",
          "text": [
            "Train Loss: 0.7802 | Val Loss: 0.7314 | Val Acc: 0.6844 | Val F1: 0.6373\n",
            "\n",
            "--- Epoch 45/50 ---\n"
          ]
        },
        {
          "output_type": "stream",
          "name": "stderr",
          "text": [
            "Training Fold 1: 100%|██████████| 280/280 [01:42<00:00,  2.72it/s, Loss=2.1578, Mask=0.24]\n"
          ]
        },
        {
          "output_type": "stream",
          "name": "stdout",
          "text": [
            "Train Loss: 0.7835 | Val Loss: 0.7339 | Val Acc: 0.6884 | Val F1: 0.6331\n",
            "🎉 New best model for fold 1 saved to best_model_fold_1.pth with accuracy: 0.6884\n",
            "\n",
            "--- Epoch 46/50 ---\n"
          ]
        },
        {
          "output_type": "stream",
          "name": "stderr",
          "text": [
            "Training Fold 1: 100%|██████████| 280/280 [01:43<00:00,  2.71it/s, Loss=1.0990, Mask=0.26]\n"
          ]
        },
        {
          "output_type": "stream",
          "name": "stdout",
          "text": [
            "Train Loss: 0.7859 | Val Loss: 0.7264 | Val Acc: 0.6830 | Val F1: 0.6507\n",
            "\n",
            "--- Epoch 47/50 ---\n"
          ]
        },
        {
          "output_type": "stream",
          "name": "stderr",
          "text": [
            "Training Fold 1: 100%|██████████| 280/280 [01:42<00:00,  2.73it/s, Loss=2.9388, Mask=0.28]\n"
          ]
        },
        {
          "output_type": "stream",
          "name": "stdout",
          "text": [
            "Train Loss: 0.7818 | Val Loss: 0.7286 | Val Acc: 0.6803 | Val F1: 0.6433\n",
            "\n",
            "--- Epoch 48/50 ---\n"
          ]
        },
        {
          "output_type": "stream",
          "name": "stderr",
          "text": [
            "Training Fold 1: 100%|██████████| 280/280 [01:42<00:00,  2.72it/s, Loss=1.0816, Mask=0.20]\n"
          ]
        },
        {
          "output_type": "stream",
          "name": "stdout",
          "text": [
            "Train Loss: 0.7853 | Val Loss: 0.7309 | Val Acc: 0.6823 | Val F1: 0.6415\n",
            "\n",
            "--- Epoch 49/50 ---\n"
          ]
        },
        {
          "output_type": "stream",
          "name": "stderr",
          "text": [
            "Training Fold 1: 100%|██████████| 280/280 [01:43<00:00,  2.72it/s, Loss=1.0225, Mask=0.21]\n"
          ]
        },
        {
          "output_type": "stream",
          "name": "stdout",
          "text": [
            "Train Loss: 0.7839 | Val Loss: 0.7302 | Val Acc: 0.6830 | Val F1: 0.6495\n",
            "\n",
            "--- Epoch 50/50 ---\n"
          ]
        },
        {
          "output_type": "stream",
          "name": "stderr",
          "text": [
            "Training Fold 1: 100%|██████████| 280/280 [01:43<00:00,  2.72it/s, Loss=0.8200, Mask=0.20]\n"
          ]
        },
        {
          "output_type": "stream",
          "name": "stdout",
          "text": [
            "Train Loss: 0.7882 | Val Loss: 0.7263 | Val Acc: 0.6857 | Val F1: 0.6454\n",
            "Finished training for fold 1. Best validation accuracy: 0.6884\n",
            "\n",
            "========================= FOLD 2/4 =========================\n",
            "Labeled training set size: 4466\n",
            "Validation set size: 1489\n",
            "\n",
            "Re-initializing model for new fold...\n",
            "\n",
            "--- Epoch 1/50 ---\n"
          ]
        },
        {
          "output_type": "stream",
          "name": "stderr",
          "text": [
            "Training Fold 2: 100%|██████████| 280/280 [01:42<00:00,  2.73it/s, Loss=1.1242, Mask=0.00]\n"
          ]
        },
        {
          "output_type": "stream",
          "name": "stdout",
          "text": [
            "Train Loss: 1.0006 | Val Loss: 0.9249 | Val Acc: 0.6212 | Val F1: 0.4340\n",
            "🎉 New best model for fold 2 saved to best_model_fold_2.pth with accuracy: 0.6212\n",
            "\n",
            "--- Epoch 2/50 ---\n"
          ]
        },
        {
          "output_type": "stream",
          "name": "stderr",
          "text": [
            "Training Fold 2: 100%|██████████| 280/280 [01:46<00:00,  2.62it/s, Loss=0.5509, Mask=0.05]\n"
          ]
        },
        {
          "output_type": "stream",
          "name": "stdout",
          "text": [
            "Train Loss: 0.8670 | Val Loss: 0.8557 | Val Acc: 0.6602 | Val F1: 0.5034\n",
            "🎉 New best model for fold 2 saved to best_model_fold_2.pth with accuracy: 0.6602\n",
            "\n",
            "--- Epoch 3/50 ---\n"
          ]
        },
        {
          "output_type": "stream",
          "name": "stderr",
          "text": [
            "Training Fold 2: 100%|██████████| 280/280 [01:43<00:00,  2.71it/s, Loss=0.8111, Mask=0.12]\n"
          ]
        },
        {
          "output_type": "stream",
          "name": "stdout",
          "text": [
            "Train Loss: 0.8355 | Val Loss: 0.8263 | Val Acc: 0.6568 | Val F1: 0.5172\n",
            "\n",
            "--- Epoch 4/50 ---\n"
          ]
        },
        {
          "output_type": "stream",
          "name": "stderr",
          "text": [
            "Training Fold 2: 100%|██████████| 280/280 [01:42<00:00,  2.72it/s, Loss=1.0394, Mask=0.12]\n"
          ]
        },
        {
          "output_type": "stream",
          "name": "stdout",
          "text": [
            "Train Loss: 0.8189 | Val Loss: 0.8126 | Val Acc: 0.6635 | Val F1: 0.5363\n",
            "🎉 New best model for fold 2 saved to best_model_fold_2.pth with accuracy: 0.6635\n",
            "\n",
            "--- Epoch 5/50 ---\n"
          ]
        },
        {
          "output_type": "stream",
          "name": "stderr",
          "text": [
            "Training Fold 2: 100%|██████████| 280/280 [01:46<00:00,  2.62it/s, Loss=1.9933, Mask=0.12]\n"
          ]
        },
        {
          "output_type": "stream",
          "name": "stdout",
          "text": [
            "Train Loss: 0.8073 | Val Loss: 0.7952 | Val Acc: 0.6655 | Val F1: 0.5367\n",
            "🎉 New best model for fold 2 saved to best_model_fold_2.pth with accuracy: 0.6655\n",
            "\n",
            "--- Epoch 6/50 ---\n"
          ]
        },
        {
          "output_type": "stream",
          "name": "stderr",
          "text": [
            "Training Fold 2: 100%|██████████| 280/280 [01:45<00:00,  2.66it/s, Loss=0.9812, Mask=0.14]\n"
          ]
        },
        {
          "output_type": "stream",
          "name": "stdout",
          "text": [
            "Train Loss: 0.8035 | Val Loss: 0.7848 | Val Acc: 0.6716 | Val F1: 0.5487\n",
            "🎉 New best model for fold 2 saved to best_model_fold_2.pth with accuracy: 0.6716\n",
            "\n",
            "--- Epoch 7/50 ---\n"
          ]
        },
        {
          "output_type": "stream",
          "name": "stderr",
          "text": [
            "Training Fold 2: 100%|██████████| 280/280 [01:47<00:00,  2.62it/s, Loss=0.8279, Mask=0.12]\n"
          ]
        },
        {
          "output_type": "stream",
          "name": "stdout",
          "text": [
            "Train Loss: 0.7998 | Val Loss: 0.7864 | Val Acc: 0.6662 | Val F1: 0.5552\n",
            "\n",
            "--- Epoch 8/50 ---\n"
          ]
        },
        {
          "output_type": "stream",
          "name": "stderr",
          "text": [
            "Training Fold 2: 100%|██████████| 280/280 [01:46<00:00,  2.62it/s, Loss=1.0244, Mask=0.12]\n"
          ]
        },
        {
          "output_type": "stream",
          "name": "stdout",
          "text": [
            "Train Loss: 0.7998 | Val Loss: 0.7764 | Val Acc: 0.6696 | Val F1: 0.5643\n",
            "\n",
            "--- Epoch 9/50 ---\n"
          ]
        },
        {
          "output_type": "stream",
          "name": "stderr",
          "text": [
            "Training Fold 2: 100%|██████████| 280/280 [01:47<00:00,  2.61it/s, Loss=0.8895, Mask=0.10]\n"
          ]
        },
        {
          "output_type": "stream",
          "name": "stdout",
          "text": [
            "Train Loss: 0.8049 | Val Loss: 0.7779 | Val Acc: 0.6783 | Val F1: 0.5679\n",
            "🎉 New best model for fold 2 saved to best_model_fold_2.pth with accuracy: 0.6783\n",
            "\n",
            "--- Epoch 10/50 ---\n"
          ]
        },
        {
          "output_type": "stream",
          "name": "stderr",
          "text": [
            "Training Fold 2: 100%|██████████| 280/280 [01:46<00:00,  2.62it/s, Loss=3.5285, Mask=0.16]\n"
          ]
        },
        {
          "output_type": "stream",
          "name": "stdout",
          "text": [
            "Train Loss: 0.8003 | Val Loss: 0.7725 | Val Acc: 0.6776 | Val F1: 0.5432\n",
            "\n",
            "--- Epoch 11/50 ---\n"
          ]
        },
        {
          "output_type": "stream",
          "name": "stderr",
          "text": [
            "Training Fold 2: 100%|██████████| 280/280 [01:46<00:00,  2.62it/s, Loss=0.4919, Mask=0.20]\n"
          ]
        },
        {
          "output_type": "stream",
          "name": "stdout",
          "text": [
            "Train Loss: 0.7880 | Val Loss: 0.7687 | Val Acc: 0.6749 | Val F1: 0.5756\n",
            "\n",
            "--- Epoch 12/50 ---\n"
          ]
        },
        {
          "output_type": "stream",
          "name": "stderr",
          "text": [
            "Training Fold 2: 100%|██████████| 280/280 [01:45<00:00,  2.66it/s, Loss=0.6313, Mask=0.22]\n"
          ]
        },
        {
          "output_type": "stream",
          "name": "stdout",
          "text": [
            "Train Loss: 0.7781 | Val Loss: 0.7755 | Val Acc: 0.6723 | Val F1: 0.5668\n",
            "\n",
            "--- Epoch 13/50 ---\n"
          ]
        },
        {
          "output_type": "stream",
          "name": "stderr",
          "text": [
            "Training Fold 2: 100%|██████████| 280/280 [01:47<00:00,  2.61it/s, Loss=0.8421, Mask=0.15]\n"
          ]
        },
        {
          "output_type": "stream",
          "name": "stdout",
          "text": [
            "Train Loss: 0.7968 | Val Loss: 0.7711 | Val Acc: 0.6709 | Val F1: 0.5880\n",
            "\n",
            "--- Epoch 14/50 ---\n"
          ]
        },
        {
          "output_type": "stream",
          "name": "stderr",
          "text": [
            "Training Fold 2: 100%|██████████| 280/280 [01:46<00:00,  2.62it/s, Loss=0.5193, Mask=0.22]\n"
          ]
        },
        {
          "output_type": "stream",
          "name": "stdout",
          "text": [
            "Train Loss: 0.7862 | Val Loss: 0.7586 | Val Acc: 0.6770 | Val F1: 0.5770\n",
            "\n",
            "--- Epoch 15/50 ---\n"
          ]
        },
        {
          "output_type": "stream",
          "name": "stderr",
          "text": [
            "Training Fold 2: 100%|██████████| 280/280 [01:45<00:00,  2.66it/s, Loss=1.1688, Mask=0.20]\n"
          ]
        },
        {
          "output_type": "stream",
          "name": "stdout",
          "text": [
            "Train Loss: 0.7940 | Val Loss: 0.7561 | Val Acc: 0.6823 | Val F1: 0.5740\n",
            "🎉 New best model for fold 2 saved to best_model_fold_2.pth with accuracy: 0.6823\n",
            "\n",
            "--- Epoch 16/50 ---\n"
          ]
        },
        {
          "output_type": "stream",
          "name": "stderr",
          "text": [
            "Training Fold 2: 100%|██████████| 280/280 [01:46<00:00,  2.63it/s, Loss=0.6537, Mask=0.16]\n"
          ]
        },
        {
          "output_type": "stream",
          "name": "stdout",
          "text": [
            "Train Loss: 0.7823 | Val Loss: 0.7614 | Val Acc: 0.6723 | Val F1: 0.5677\n",
            "\n",
            "--- Epoch 17/50 ---\n"
          ]
        },
        {
          "output_type": "stream",
          "name": "stderr",
          "text": [
            "Training Fold 2: 100%|██████████| 280/280 [01:46<00:00,  2.63it/s, Loss=2.1006, Mask=0.16]\n"
          ]
        },
        {
          "output_type": "stream",
          "name": "stdout",
          "text": [
            "Train Loss: 0.7891 | Val Loss: 0.7516 | Val Acc: 0.6810 | Val F1: 0.5759\n",
            "\n",
            "--- Epoch 18/50 ---\n"
          ]
        },
        {
          "output_type": "stream",
          "name": "stderr",
          "text": [
            "Training Fold 2: 100%|██████████| 280/280 [01:45<00:00,  2.66it/s, Loss=1.0563, Mask=0.19]\n"
          ]
        },
        {
          "output_type": "stream",
          "name": "stdout",
          "text": [
            "Train Loss: 0.7751 | Val Loss: 0.7647 | Val Acc: 0.6723 | Val F1: 0.5802\n",
            "\n",
            "--- Epoch 19/50 ---\n"
          ]
        },
        {
          "output_type": "stream",
          "name": "stderr",
          "text": [
            "Training Fold 2: 100%|██████████| 280/280 [01:48<00:00,  2.59it/s, Loss=0.8599, Mask=0.21]\n"
          ]
        },
        {
          "output_type": "stream",
          "name": "stdout",
          "text": [
            "Train Loss: 0.7865 | Val Loss: 0.7584 | Val Acc: 0.6776 | Val F1: 0.5885\n",
            "\n",
            "--- Epoch 20/50 ---\n"
          ]
        },
        {
          "output_type": "stream",
          "name": "stderr",
          "text": [
            "Training Fold 2: 100%|██████████| 280/280 [01:45<00:00,  2.65it/s, Loss=0.4896, Mask=0.18]\n"
          ]
        },
        {
          "output_type": "stream",
          "name": "stdout",
          "text": [
            "Train Loss: 0.7912 | Val Loss: 0.7582 | Val Acc: 0.6756 | Val F1: 0.5720\n",
            "\n",
            "--- Epoch 21/50 ---\n"
          ]
        },
        {
          "output_type": "stream",
          "name": "stderr",
          "text": [
            "Training Fold 2: 100%|██████████| 280/280 [01:46<00:00,  2.63it/s, Loss=1.0173, Mask=0.25]\n"
          ]
        },
        {
          "output_type": "stream",
          "name": "stdout",
          "text": [
            "Train Loss: 0.7832 | Val Loss: 0.7595 | Val Acc: 0.6696 | Val F1: 0.5689\n",
            "\n",
            "--- Epoch 22/50 ---\n"
          ]
        },
        {
          "output_type": "stream",
          "name": "stderr",
          "text": [
            "Training Fold 2: 100%|██████████| 280/280 [01:44<00:00,  2.67it/s, Loss=0.5097, Mask=0.13]\n"
          ]
        },
        {
          "output_type": "stream",
          "name": "stdout",
          "text": [
            "Train Loss: 0.7906 | Val Loss: 0.7537 | Val Acc: 0.6736 | Val F1: 0.5796\n",
            "\n",
            "--- Epoch 23/50 ---\n"
          ]
        },
        {
          "output_type": "stream",
          "name": "stderr",
          "text": [
            "Training Fold 2: 100%|██████████| 280/280 [01:46<00:00,  2.62it/s, Loss=0.9424, Mask=0.18]\n"
          ]
        },
        {
          "output_type": "stream",
          "name": "stdout",
          "text": [
            "Train Loss: 0.7794 | Val Loss: 0.7580 | Val Acc: 0.6756 | Val F1: 0.5782\n",
            "\n",
            "--- Epoch 24/50 ---\n"
          ]
        },
        {
          "output_type": "stream",
          "name": "stderr",
          "text": [
            "Training Fold 2: 100%|██████████| 280/280 [01:47<00:00,  2.60it/s, Loss=1.1467, Mask=0.25]\n"
          ]
        },
        {
          "output_type": "stream",
          "name": "stdout",
          "text": [
            "Train Loss: 0.7867 | Val Loss: 0.7479 | Val Acc: 0.6844 | Val F1: 0.6077\n",
            "🎉 New best model for fold 2 saved to best_model_fold_2.pth with accuracy: 0.6844\n",
            "\n",
            "--- Epoch 25/50 ---\n"
          ]
        },
        {
          "output_type": "stream",
          "name": "stderr",
          "text": [
            "Training Fold 2: 100%|██████████| 280/280 [01:47<00:00,  2.61it/s, Loss=0.9167, Mask=0.16]\n"
          ]
        },
        {
          "output_type": "stream",
          "name": "stdout",
          "text": [
            "Train Loss: 0.7835 | Val Loss: 0.7480 | Val Acc: 0.6749 | Val F1: 0.5902\n",
            "\n",
            "--- Epoch 26/50 ---\n"
          ]
        },
        {
          "output_type": "stream",
          "name": "stderr",
          "text": [
            "Training Fold 2: 100%|██████████| 280/280 [01:47<00:00,  2.61it/s, Loss=1.0590, Mask=0.26]\n"
          ]
        },
        {
          "output_type": "stream",
          "name": "stdout",
          "text": [
            "Train Loss: 0.7786 | Val Loss: 0.7556 | Val Acc: 0.6763 | Val F1: 0.5765\n",
            "\n",
            "--- Epoch 27/50 ---\n"
          ]
        },
        {
          "output_type": "stream",
          "name": "stderr",
          "text": [
            "Training Fold 2: 100%|██████████| 280/280 [01:47<00:00,  2.60it/s, Loss=0.6523, Mask=0.23]\n"
          ]
        },
        {
          "output_type": "stream",
          "name": "stdout",
          "text": [
            "Train Loss: 0.7790 | Val Loss: 0.7449 | Val Acc: 0.6810 | Val F1: 0.5852\n",
            "\n",
            "--- Epoch 28/50 ---\n"
          ]
        },
        {
          "output_type": "stream",
          "name": "stderr",
          "text": [
            "Training Fold 2: 100%|██████████| 280/280 [01:46<00:00,  2.64it/s, Loss=0.6007, Mask=0.21]\n"
          ]
        },
        {
          "output_type": "stream",
          "name": "stdout",
          "text": [
            "Train Loss: 0.7667 | Val Loss: 0.7505 | Val Acc: 0.6709 | Val F1: 0.5842\n",
            "\n",
            "--- Epoch 29/50 ---\n"
          ]
        },
        {
          "output_type": "stream",
          "name": "stderr",
          "text": [
            "Training Fold 2: 100%|██████████| 280/280 [01:46<00:00,  2.62it/s, Loss=2.5588, Mask=0.22]\n"
          ]
        },
        {
          "output_type": "stream",
          "name": "stdout",
          "text": [
            "Train Loss: 0.7900 | Val Loss: 0.7444 | Val Acc: 0.6783 | Val F1: 0.5824\n",
            "\n",
            "--- Epoch 30/50 ---\n"
          ]
        },
        {
          "output_type": "stream",
          "name": "stderr",
          "text": [
            "Training Fold 2: 100%|██████████| 280/280 [01:46<00:00,  2.62it/s, Loss=0.9160, Mask=0.18]\n"
          ]
        },
        {
          "output_type": "stream",
          "name": "stdout",
          "text": [
            "Train Loss: 0.7771 | Val Loss: 0.7478 | Val Acc: 0.6850 | Val F1: 0.5859\n",
            "🎉 New best model for fold 2 saved to best_model_fold_2.pth with accuracy: 0.6850\n",
            "\n",
            "--- Epoch 31/50 ---\n"
          ]
        },
        {
          "output_type": "stream",
          "name": "stderr",
          "text": [
            "Training Fold 2: 100%|██████████| 280/280 [01:46<00:00,  2.62it/s, Loss=1.0384, Mask=0.21]\n"
          ]
        },
        {
          "output_type": "stream",
          "name": "stdout",
          "text": [
            "Train Loss: 0.7803 | Val Loss: 0.7401 | Val Acc: 0.6884 | Val F1: 0.6097\n",
            "🎉 New best model for fold 2 saved to best_model_fold_2.pth with accuracy: 0.6884\n",
            "\n",
            "--- Epoch 32/50 ---\n"
          ]
        },
        {
          "output_type": "stream",
          "name": "stderr",
          "text": [
            "Training Fold 2: 100%|██████████| 280/280 [01:45<00:00,  2.67it/s, Loss=0.4489, Mask=0.15]\n"
          ]
        },
        {
          "output_type": "stream",
          "name": "stdout",
          "text": [
            "Train Loss: 0.7814 | Val Loss: 0.7459 | Val Acc: 0.6729 | Val F1: 0.5832\n",
            "\n",
            "--- Epoch 33/50 ---\n"
          ]
        },
        {
          "output_type": "stream",
          "name": "stderr",
          "text": [
            "Training Fold 2: 100%|██████████| 280/280 [01:45<00:00,  2.66it/s, Loss=0.4276, Mask=0.19]\n"
          ]
        },
        {
          "output_type": "stream",
          "name": "stdout",
          "text": [
            "Train Loss: 0.7763 | Val Loss: 0.7416 | Val Acc: 0.6823 | Val F1: 0.5903\n",
            "\n",
            "--- Epoch 34/50 ---\n"
          ]
        },
        {
          "output_type": "stream",
          "name": "stderr",
          "text": [
            "Training Fold 2: 100%|██████████| 280/280 [01:47<00:00,  2.60it/s, Loss=1.0063, Mask=0.20]\n"
          ]
        },
        {
          "output_type": "stream",
          "name": "stdout",
          "text": [
            "Train Loss: 0.7855 | Val Loss: 0.7449 | Val Acc: 0.6857 | Val F1: 0.5969\n",
            "\n",
            "--- Epoch 35/50 ---\n"
          ]
        },
        {
          "output_type": "stream",
          "name": "stderr",
          "text": [
            "Training Fold 2: 100%|██████████| 280/280 [01:47<00:00,  2.60it/s, Loss=0.6141, Mask=0.21]\n"
          ]
        },
        {
          "output_type": "stream",
          "name": "stdout",
          "text": [
            "Train Loss: 0.7658 | Val Loss: 0.7358 | Val Acc: 0.6776 | Val F1: 0.5916\n",
            "\n",
            "--- Epoch 36/50 ---\n"
          ]
        },
        {
          "output_type": "stream",
          "name": "stderr",
          "text": [
            "Training Fold 2: 100%|██████████| 280/280 [01:47<00:00,  2.61it/s, Loss=0.8476, Mask=0.22]\n"
          ]
        },
        {
          "output_type": "stream",
          "name": "stdout",
          "text": [
            "Train Loss: 0.7779 | Val Loss: 0.7430 | Val Acc: 0.6837 | Val F1: 0.5908\n",
            "\n",
            "--- Epoch 37/50 ---\n"
          ]
        },
        {
          "output_type": "stream",
          "name": "stderr",
          "text": [
            "Training Fold 2: 100%|██████████| 280/280 [01:46<00:00,  2.63it/s, Loss=0.7960, Mask=0.18]\n"
          ]
        },
        {
          "output_type": "stream",
          "name": "stdout",
          "text": [
            "Train Loss: 0.7813 | Val Loss: 0.7448 | Val Acc: 0.6770 | Val F1: 0.5868\n",
            "\n",
            "--- Epoch 38/50 ---\n"
          ]
        },
        {
          "output_type": "stream",
          "name": "stderr",
          "text": [
            "Training Fold 2: 100%|██████████| 280/280 [01:45<00:00,  2.64it/s, Loss=0.9674, Mask=0.21]\n"
          ]
        },
        {
          "output_type": "stream",
          "name": "stdout",
          "text": [
            "Train Loss: 0.7803 | Val Loss: 0.7420 | Val Acc: 0.6790 | Val F1: 0.5890\n",
            "\n",
            "--- Epoch 39/50 ---\n"
          ]
        },
        {
          "output_type": "stream",
          "name": "stderr",
          "text": [
            "Training Fold 2: 100%|██████████| 280/280 [01:47<00:00,  2.60it/s, Loss=0.3896, Mask=0.21]\n"
          ]
        },
        {
          "output_type": "stream",
          "name": "stdout",
          "text": [
            "Train Loss: 0.7710 | Val Loss: 0.7511 | Val Acc: 0.6729 | Val F1: 0.5858\n",
            "\n",
            "--- Epoch 40/50 ---\n"
          ]
        },
        {
          "output_type": "stream",
          "name": "stderr",
          "text": [
            "Training Fold 2: 100%|██████████| 280/280 [01:47<00:00,  2.59it/s, Loss=0.8959, Mask=0.26]\n"
          ]
        },
        {
          "output_type": "stream",
          "name": "stdout",
          "text": [
            "Train Loss: 0.7717 | Val Loss: 0.7424 | Val Acc: 0.6864 | Val F1: 0.5970\n",
            "\n",
            "--- Epoch 41/50 ---\n"
          ]
        },
        {
          "output_type": "stream",
          "name": "stderr",
          "text": [
            "Training Fold 2: 100%|██████████| 280/280 [01:47<00:00,  2.59it/s, Loss=0.2327, Mask=0.15]\n"
          ]
        },
        {
          "output_type": "stream",
          "name": "stdout",
          "text": [
            "Train Loss: 0.7771 | Val Loss: 0.7382 | Val Acc: 0.6803 | Val F1: 0.5917\n",
            "\n",
            "--- Epoch 42/50 ---\n"
          ]
        },
        {
          "output_type": "stream",
          "name": "stderr",
          "text": [
            "Training Fold 2: 100%|██████████| 280/280 [01:47<00:00,  2.60it/s, Loss=0.7748, Mask=0.12]\n"
          ]
        },
        {
          "output_type": "stream",
          "name": "stdout",
          "text": [
            "Train Loss: 0.7769 | Val Loss: 0.7442 | Val Acc: 0.6857 | Val F1: 0.5884\n",
            "\n",
            "--- Epoch 43/50 ---\n"
          ]
        },
        {
          "output_type": "stream",
          "name": "stderr",
          "text": [
            "Training Fold 2: 100%|██████████| 280/280 [01:47<00:00,  2.60it/s, Loss=0.8021, Mask=0.21]\n"
          ]
        },
        {
          "output_type": "stream",
          "name": "stdout",
          "text": [
            "Train Loss: 0.7622 | Val Loss: 0.7412 | Val Acc: 0.6716 | Val F1: 0.5798\n",
            "\n",
            "--- Epoch 44/50 ---\n"
          ]
        },
        {
          "output_type": "stream",
          "name": "stderr",
          "text": [
            "Training Fold 2: 100%|██████████| 280/280 [01:45<00:00,  2.64it/s, Loss=0.8368, Mask=0.22]\n"
          ]
        },
        {
          "output_type": "stream",
          "name": "stdout",
          "text": [
            "Train Loss: 0.7609 | Val Loss: 0.7440 | Val Acc: 0.6850 | Val F1: 0.5876\n",
            "\n",
            "--- Epoch 45/50 ---\n"
          ]
        },
        {
          "output_type": "stream",
          "name": "stderr",
          "text": [
            "Training Fold 2: 100%|██████████| 280/280 [01:46<00:00,  2.62it/s, Loss=0.6592, Mask=0.21]\n"
          ]
        },
        {
          "output_type": "stream",
          "name": "stdout",
          "text": [
            "Train Loss: 0.7869 | Val Loss: 0.7409 | Val Acc: 0.6810 | Val F1: 0.5862\n",
            "\n",
            "--- Epoch 46/50 ---\n"
          ]
        },
        {
          "output_type": "stream",
          "name": "stderr",
          "text": [
            "Training Fold 2: 100%|██████████| 280/280 [01:47<00:00,  2.60it/s, Loss=0.9217, Mask=0.19]\n"
          ]
        },
        {
          "output_type": "stream",
          "name": "stdout",
          "text": [
            "Train Loss: 0.7652 | Val Loss: 0.7460 | Val Acc: 0.6817 | Val F1: 0.5886\n",
            "\n",
            "--- Epoch 47/50 ---\n"
          ]
        },
        {
          "output_type": "stream",
          "name": "stderr",
          "text": [
            "Training Fold 2: 100%|██████████| 280/280 [01:46<00:00,  2.64it/s, Loss=0.6120, Mask=0.22]\n"
          ]
        },
        {
          "output_type": "stream",
          "name": "stdout",
          "text": [
            "Train Loss: 0.7698 | Val Loss: 0.7537 | Val Acc: 0.6743 | Val F1: 0.5818\n",
            "\n",
            "--- Epoch 48/50 ---\n"
          ]
        },
        {
          "output_type": "stream",
          "name": "stderr",
          "text": [
            "Training Fold 2: 100%|██████████| 280/280 [01:45<00:00,  2.64it/s, Loss=0.7884, Mask=0.21]\n"
          ]
        },
        {
          "output_type": "stream",
          "name": "stdout",
          "text": [
            "Train Loss: 0.7714 | Val Loss: 0.7466 | Val Acc: 0.6810 | Val F1: 0.5846\n",
            "\n",
            "--- Epoch 49/50 ---\n"
          ]
        },
        {
          "output_type": "stream",
          "name": "stderr",
          "text": [
            "Training Fold 2: 100%|██████████| 280/280 [01:46<00:00,  2.63it/s, Loss=0.8573, Mask=0.28]\n"
          ]
        },
        {
          "output_type": "stream",
          "name": "stdout",
          "text": [
            "Train Loss: 0.7669 | Val Loss: 0.7429 | Val Acc: 0.6770 | Val F1: 0.5883\n",
            "\n",
            "--- Epoch 50/50 ---\n"
          ]
        },
        {
          "output_type": "stream",
          "name": "stderr",
          "text": [
            "Training Fold 2: 100%|██████████| 280/280 [01:47<00:00,  2.61it/s, Loss=0.6728, Mask=0.21]\n"
          ]
        },
        {
          "output_type": "stream",
          "name": "stdout",
          "text": [
            "Train Loss: 0.7729 | Val Loss: 0.7415 | Val Acc: 0.6756 | Val F1: 0.5865\n",
            "Finished training for fold 2. Best validation accuracy: 0.6884\n",
            "\n",
            "========================= FOLD 3/4 =========================\n",
            "Labeled training set size: 4466\n",
            "Validation set size: 1489\n",
            "\n",
            "Re-initializing model for new fold...\n",
            "\n",
            "--- Epoch 1/50 ---\n"
          ]
        },
        {
          "output_type": "stream",
          "name": "stderr",
          "text": [
            "Training Fold 3: 100%|██████████| 280/280 [01:43<00:00,  2.72it/s, Loss=0.8863, Mask=0.01]\n"
          ]
        },
        {
          "output_type": "stream",
          "name": "stdout",
          "text": [
            "Train Loss: 0.9996 | Val Loss: 0.9252 | Val Acc: 0.5964 | Val F1: 0.4317\n",
            "🎉 New best model for fold 3 saved to best_model_fold_3.pth with accuracy: 0.5964\n",
            "\n",
            "--- Epoch 2/50 ---\n"
          ]
        },
        {
          "output_type": "stream",
          "name": "stderr",
          "text": [
            "Training Fold 3: 100%|██████████| 280/280 [01:44<00:00,  2.69it/s, Loss=0.4690, Mask=0.04]\n"
          ]
        },
        {
          "output_type": "stream",
          "name": "stdout",
          "text": [
            "Train Loss: 0.8698 | Val Loss: 0.8632 | Val Acc: 0.6259 | Val F1: 0.4641\n",
            "🎉 New best model for fold 3 saved to best_model_fold_3.pth with accuracy: 0.6259\n",
            "\n",
            "--- Epoch 3/50 ---\n"
          ]
        },
        {
          "output_type": "stream",
          "name": "stderr",
          "text": [
            "Training Fold 3: 100%|██████████| 280/280 [01:43<00:00,  2.71it/s, Loss=0.8769, Mask=0.05]\n"
          ]
        },
        {
          "output_type": "stream",
          "name": "stdout",
          "text": [
            "Train Loss: 0.8303 | Val Loss: 0.8246 | Val Acc: 0.6380 | Val F1: 0.4806\n",
            "🎉 New best model for fold 3 saved to best_model_fold_3.pth with accuracy: 0.6380\n",
            "\n",
            "--- Epoch 4/50 ---\n"
          ]
        },
        {
          "output_type": "stream",
          "name": "stderr",
          "text": [
            "Training Fold 3: 100%|██████████| 280/280 [01:43<00:00,  2.71it/s, Loss=1.0926, Mask=0.09]\n"
          ]
        },
        {
          "output_type": "stream",
          "name": "stdout",
          "text": [
            "Train Loss: 0.8168 | Val Loss: 0.8160 | Val Acc: 0.6387 | Val F1: 0.5616\n",
            "🎉 New best model for fold 3 saved to best_model_fold_3.pth with accuracy: 0.6387\n",
            "\n",
            "--- Epoch 5/50 ---\n"
          ]
        },
        {
          "output_type": "stream",
          "name": "stderr",
          "text": [
            "Training Fold 3: 100%|██████████| 280/280 [01:43<00:00,  2.70it/s, Loss=0.7910, Mask=0.11]\n"
          ]
        },
        {
          "output_type": "stream",
          "name": "stdout",
          "text": [
            "Train Loss: 0.8107 | Val Loss: 0.7894 | Val Acc: 0.6508 | Val F1: 0.5658\n",
            "🎉 New best model for fold 3 saved to best_model_fold_3.pth with accuracy: 0.6508\n",
            "\n",
            "--- Epoch 6/50 ---\n"
          ]
        },
        {
          "output_type": "stream",
          "name": "stderr",
          "text": [
            "Training Fold 3: 100%|██████████| 280/280 [01:43<00:00,  2.70it/s, Loss=0.8505, Mask=0.12]\n"
          ]
        },
        {
          "output_type": "stream",
          "name": "stdout",
          "text": [
            "Train Loss: 0.8155 | Val Loss: 0.7910 | Val Acc: 0.6514 | Val F1: 0.5427\n",
            "🎉 New best model for fold 3 saved to best_model_fold_3.pth with accuracy: 0.6514\n",
            "\n",
            "--- Epoch 7/50 ---\n"
          ]
        },
        {
          "output_type": "stream",
          "name": "stderr",
          "text": [
            "Training Fold 3: 100%|██████████| 280/280 [01:43<00:00,  2.70it/s, Loss=0.9449, Mask=0.07]\n"
          ]
        },
        {
          "output_type": "stream",
          "name": "stdout",
          "text": [
            "Train Loss: 0.8104 | Val Loss: 0.7814 | Val Acc: 0.6454 | Val F1: 0.5601\n",
            "\n",
            "--- Epoch 8/50 ---\n"
          ]
        },
        {
          "output_type": "stream",
          "name": "stderr",
          "text": [
            "Training Fold 3: 100%|██████████| 280/280 [01:43<00:00,  2.70it/s, Loss=1.0727, Mask=0.14]\n"
          ]
        },
        {
          "output_type": "stream",
          "name": "stdout",
          "text": [
            "Train Loss: 0.8065 | Val Loss: 0.7809 | Val Acc: 0.6528 | Val F1: 0.5849\n",
            "🎉 New best model for fold 3 saved to best_model_fold_3.pth with accuracy: 0.6528\n",
            "\n",
            "--- Epoch 9/50 ---\n"
          ]
        },
        {
          "output_type": "stream",
          "name": "stderr",
          "text": [
            "Training Fold 3: 100%|██████████| 280/280 [01:43<00:00,  2.70it/s, Loss=1.2053, Mask=0.12]\n"
          ]
        },
        {
          "output_type": "stream",
          "name": "stdout",
          "text": [
            "Train Loss: 0.8075 | Val Loss: 0.7887 | Val Acc: 0.6474 | Val F1: 0.5960\n",
            "\n",
            "--- Epoch 10/50 ---\n"
          ]
        },
        {
          "output_type": "stream",
          "name": "stderr",
          "text": [
            "Training Fold 3: 100%|██████████| 280/280 [01:44<00:00,  2.69it/s, Loss=0.8498, Mask=0.14]\n"
          ]
        },
        {
          "output_type": "stream",
          "name": "stdout",
          "text": [
            "Train Loss: 0.7842 | Val Loss: 0.7736 | Val Acc: 0.6582 | Val F1: 0.5920\n",
            "🎉 New best model for fold 3 saved to best_model_fold_3.pth with accuracy: 0.6582\n",
            "\n",
            "--- Epoch 11/50 ---\n"
          ]
        },
        {
          "output_type": "stream",
          "name": "stderr",
          "text": [
            "Training Fold 3: 100%|██████████| 280/280 [01:44<00:00,  2.69it/s, Loss=0.9542, Mask=0.12]\n"
          ]
        },
        {
          "output_type": "stream",
          "name": "stdout",
          "text": [
            "Train Loss: 0.7935 | Val Loss: 0.7733 | Val Acc: 0.6635 | Val F1: 0.5984\n",
            "🎉 New best model for fold 3 saved to best_model_fold_3.pth with accuracy: 0.6635\n",
            "\n",
            "--- Epoch 12/50 ---\n"
          ]
        },
        {
          "output_type": "stream",
          "name": "stderr",
          "text": [
            "Training Fold 3: 100%|██████████| 280/280 [01:43<00:00,  2.72it/s, Loss=1.1355, Mask=0.17]\n"
          ]
        },
        {
          "output_type": "stream",
          "name": "stdout",
          "text": [
            "Train Loss: 0.7884 | Val Loss: 0.7642 | Val Acc: 0.6588 | Val F1: 0.5931\n",
            "\n",
            "--- Epoch 13/50 ---\n"
          ]
        },
        {
          "output_type": "stream",
          "name": "stderr",
          "text": [
            "Training Fold 3: 100%|██████████| 280/280 [01:43<00:00,  2.71it/s, Loss=1.0642, Mask=0.27]\n"
          ]
        },
        {
          "output_type": "stream",
          "name": "stdout",
          "text": [
            "Train Loss: 0.7794 | Val Loss: 0.7692 | Val Acc: 0.6635 | Val F1: 0.5968\n",
            "\n",
            "--- Epoch 14/50 ---\n"
          ]
        },
        {
          "output_type": "stream",
          "name": "stderr",
          "text": [
            "Training Fold 3: 100%|██████████| 280/280 [01:43<00:00,  2.69it/s, Loss=1.0328, Mask=0.12]\n"
          ]
        },
        {
          "output_type": "stream",
          "name": "stdout",
          "text": [
            "Train Loss: 0.8035 | Val Loss: 0.7715 | Val Acc: 0.6588 | Val F1: 0.6057\n",
            "\n",
            "--- Epoch 15/50 ---\n"
          ]
        },
        {
          "output_type": "stream",
          "name": "stderr",
          "text": [
            "Training Fold 3: 100%|██████████| 280/280 [01:43<00:00,  2.70it/s, Loss=0.9131, Mask=0.17]\n"
          ]
        },
        {
          "output_type": "stream",
          "name": "stdout",
          "text": [
            "Train Loss: 0.8002 | Val Loss: 0.7760 | Val Acc: 0.6548 | Val F1: 0.6012\n",
            "\n",
            "--- Epoch 16/50 ---\n"
          ]
        },
        {
          "output_type": "stream",
          "name": "stderr",
          "text": [
            "Training Fold 3: 100%|██████████| 280/280 [01:43<00:00,  2.70it/s, Loss=0.5796, Mask=0.18]\n"
          ]
        },
        {
          "output_type": "stream",
          "name": "stdout",
          "text": [
            "Train Loss: 0.7831 | Val Loss: 0.7696 | Val Acc: 0.6548 | Val F1: 0.6004\n",
            "\n",
            "--- Epoch 17/50 ---\n"
          ]
        },
        {
          "output_type": "stream",
          "name": "stderr",
          "text": [
            "Training Fold 3: 100%|██████████| 280/280 [01:43<00:00,  2.70it/s, Loss=2.1071, Mask=0.18]\n"
          ]
        },
        {
          "output_type": "stream",
          "name": "stdout",
          "text": [
            "Train Loss: 0.8063 | Val Loss: 0.7668 | Val Acc: 0.6541 | Val F1: 0.5820\n",
            "\n",
            "--- Epoch 18/50 ---\n"
          ]
        },
        {
          "output_type": "stream",
          "name": "stderr",
          "text": [
            "Training Fold 3: 100%|██████████| 280/280 [01:43<00:00,  2.72it/s, Loss=0.8751, Mask=0.13]\n"
          ]
        },
        {
          "output_type": "stream",
          "name": "stdout",
          "text": [
            "Train Loss: 0.7880 | Val Loss: 0.7577 | Val Acc: 0.6582 | Val F1: 0.5981\n",
            "\n",
            "--- Epoch 19/50 ---\n"
          ]
        },
        {
          "output_type": "stream",
          "name": "stderr",
          "text": [
            "Training Fold 3: 100%|██████████| 280/280 [01:44<00:00,  2.69it/s, Loss=0.8569, Mask=0.17]\n"
          ]
        },
        {
          "output_type": "stream",
          "name": "stdout",
          "text": [
            "Train Loss: 0.7796 | Val Loss: 0.7588 | Val Acc: 0.6561 | Val F1: 0.5917\n",
            "\n",
            "--- Epoch 20/50 ---\n"
          ]
        },
        {
          "output_type": "stream",
          "name": "stderr",
          "text": [
            "Training Fold 3: 100%|██████████| 280/280 [01:44<00:00,  2.69it/s, Loss=1.2873, Mask=0.14]\n"
          ]
        },
        {
          "output_type": "stream",
          "name": "stdout",
          "text": [
            "Train Loss: 0.7851 | Val Loss: 0.7618 | Val Acc: 0.6602 | Val F1: 0.5837\n",
            "\n",
            "--- Epoch 21/50 ---\n"
          ]
        },
        {
          "output_type": "stream",
          "name": "stderr",
          "text": [
            "Training Fold 3: 100%|██████████| 280/280 [01:43<00:00,  2.69it/s, Loss=0.1686, Mask=0.19]\n"
          ]
        },
        {
          "output_type": "stream",
          "name": "stdout",
          "text": [
            "Train Loss: 0.7846 | Val Loss: 0.7679 | Val Acc: 0.6602 | Val F1: 0.5887\n",
            "\n",
            "--- Epoch 22/50 ---\n"
          ]
        },
        {
          "output_type": "stream",
          "name": "stderr",
          "text": [
            "Training Fold 3: 100%|██████████| 280/280 [01:43<00:00,  2.70it/s, Loss=1.8157, Mask=0.15]\n"
          ]
        },
        {
          "output_type": "stream",
          "name": "stdout",
          "text": [
            "Train Loss: 0.7830 | Val Loss: 0.7562 | Val Acc: 0.6635 | Val F1: 0.5983\n",
            "\n",
            "--- Epoch 23/50 ---\n"
          ]
        },
        {
          "output_type": "stream",
          "name": "stderr",
          "text": [
            "Training Fold 3: 100%|██████████| 280/280 [01:44<00:00,  2.67it/s, Loss=0.6905, Mask=0.12]\n"
          ]
        },
        {
          "output_type": "stream",
          "name": "stdout",
          "text": [
            "Train Loss: 0.7740 | Val Loss: 0.7625 | Val Acc: 0.6514 | Val F1: 0.5743\n",
            "\n",
            "--- Epoch 24/50 ---\n"
          ]
        },
        {
          "output_type": "stream",
          "name": "stderr",
          "text": [
            "Training Fold 3: 100%|██████████| 280/280 [01:45<00:00,  2.66it/s, Loss=0.7734, Mask=0.22]\n"
          ]
        },
        {
          "output_type": "stream",
          "name": "stdout",
          "text": [
            "Train Loss: 0.7929 | Val Loss: 0.7597 | Val Acc: 0.6595 | Val F1: 0.5862\n",
            "\n",
            "--- Epoch 25/50 ---\n"
          ]
        },
        {
          "output_type": "stream",
          "name": "stderr",
          "text": [
            "Training Fold 3: 100%|██████████| 280/280 [01:43<00:00,  2.71it/s, Loss=0.4941, Mask=0.22]\n"
          ]
        },
        {
          "output_type": "stream",
          "name": "stdout",
          "text": [
            "Train Loss: 0.7800 | Val Loss: 0.7632 | Val Acc: 0.6548 | Val F1: 0.5942\n",
            "\n",
            "--- Epoch 26/50 ---\n"
          ]
        },
        {
          "output_type": "stream",
          "name": "stderr",
          "text": [
            "Training Fold 3: 100%|██████████| 280/280 [01:44<00:00,  2.68it/s, Loss=0.6530, Mask=0.12]\n"
          ]
        },
        {
          "output_type": "stream",
          "name": "stdout",
          "text": [
            "Train Loss: 0.7898 | Val Loss: 0.7480 | Val Acc: 0.6669 | Val F1: 0.6070\n",
            "🎉 New best model for fold 3 saved to best_model_fold_3.pth with accuracy: 0.6669\n",
            "\n",
            "--- Epoch 27/50 ---\n"
          ]
        },
        {
          "output_type": "stream",
          "name": "stderr",
          "text": [
            "Training Fold 3: 100%|██████████| 280/280 [01:43<00:00,  2.70it/s, Loss=0.4938, Mask=0.27]\n"
          ]
        },
        {
          "output_type": "stream",
          "name": "stdout",
          "text": [
            "Train Loss: 0.7853 | Val Loss: 0.7542 | Val Acc: 0.6622 | Val F1: 0.5904\n",
            "\n",
            "--- Epoch 28/50 ---\n"
          ]
        },
        {
          "output_type": "stream",
          "name": "stderr",
          "text": [
            "Training Fold 3: 100%|██████████| 280/280 [01:43<00:00,  2.71it/s, Loss=0.6423, Mask=0.15]\n"
          ]
        },
        {
          "output_type": "stream",
          "name": "stdout",
          "text": [
            "Train Loss: 0.7782 | Val Loss: 0.7433 | Val Acc: 0.6682 | Val F1: 0.6060\n",
            "🎉 New best model for fold 3 saved to best_model_fold_3.pth with accuracy: 0.6682\n",
            "\n",
            "--- Epoch 29/50 ---\n"
          ]
        },
        {
          "output_type": "stream",
          "name": "stderr",
          "text": [
            "Training Fold 3: 100%|██████████| 280/280 [01:43<00:00,  2.70it/s, Loss=0.3520, Mask=0.21]\n"
          ]
        },
        {
          "output_type": "stream",
          "name": "stdout",
          "text": [
            "Train Loss: 0.7846 | Val Loss: 0.7504 | Val Acc: 0.6608 | Val F1: 0.5941\n",
            "\n",
            "--- Epoch 30/50 ---\n"
          ]
        },
        {
          "output_type": "stream",
          "name": "stderr",
          "text": [
            "Training Fold 3: 100%|██████████| 280/280 [01:44<00:00,  2.69it/s, Loss=0.8560, Mask=0.24]\n"
          ]
        },
        {
          "output_type": "stream",
          "name": "stdout",
          "text": [
            "Train Loss: 0.7850 | Val Loss: 0.7419 | Val Acc: 0.6622 | Val F1: 0.5948\n",
            "\n",
            "--- Epoch 31/50 ---\n"
          ]
        },
        {
          "output_type": "stream",
          "name": "stderr",
          "text": [
            "Training Fold 3: 100%|██████████| 280/280 [01:44<00:00,  2.69it/s, Loss=0.5379, Mask=0.17]\n"
          ]
        },
        {
          "output_type": "stream",
          "name": "stdout",
          "text": [
            "Train Loss: 0.7837 | Val Loss: 0.7489 | Val Acc: 0.6669 | Val F1: 0.6193\n",
            "\n",
            "--- Epoch 32/50 ---\n"
          ]
        },
        {
          "output_type": "stream",
          "name": "stderr",
          "text": [
            "Training Fold 3: 100%|██████████| 280/280 [01:44<00:00,  2.69it/s, Loss=0.8670, Mask=0.17]\n"
          ]
        },
        {
          "output_type": "stream",
          "name": "stdout",
          "text": [
            "Train Loss: 0.7855 | Val Loss: 0.7493 | Val Acc: 0.6655 | Val F1: 0.6007\n",
            "\n",
            "--- Epoch 33/50 ---\n"
          ]
        },
        {
          "output_type": "stream",
          "name": "stderr",
          "text": [
            "Training Fold 3: 100%|██████████| 280/280 [01:44<00:00,  2.67it/s, Loss=0.3336, Mask=0.18]\n"
          ]
        },
        {
          "output_type": "stream",
          "name": "stdout",
          "text": [
            "Train Loss: 0.7888 | Val Loss: 0.7443 | Val Acc: 0.6669 | Val F1: 0.6094\n",
            "\n",
            "--- Epoch 34/50 ---\n"
          ]
        },
        {
          "output_type": "stream",
          "name": "stderr",
          "text": [
            "Training Fold 3: 100%|██████████| 280/280 [01:44<00:00,  2.67it/s, Loss=0.5733, Mask=0.28]\n"
          ]
        },
        {
          "output_type": "stream",
          "name": "stdout",
          "text": [
            "Train Loss: 0.7605 | Val Loss: 0.7494 | Val Acc: 0.6635 | Val F1: 0.5989\n",
            "\n",
            "--- Epoch 35/50 ---\n"
          ]
        },
        {
          "output_type": "stream",
          "name": "stderr",
          "text": [
            "Training Fold 3: 100%|██████████| 280/280 [01:44<00:00,  2.68it/s, Loss=0.4507, Mask=0.21]\n"
          ]
        },
        {
          "output_type": "stream",
          "name": "stdout",
          "text": [
            "Train Loss: 0.7702 | Val Loss: 0.7512 | Val Acc: 0.6682 | Val F1: 0.6140\n",
            "\n",
            "--- Epoch 36/50 ---\n"
          ]
        },
        {
          "output_type": "stream",
          "name": "stderr",
          "text": [
            "Training Fold 3: 100%|██████████| 280/280 [01:44<00:00,  2.69it/s, Loss=0.8946, Mask=0.21]\n"
          ]
        },
        {
          "output_type": "stream",
          "name": "stdout",
          "text": [
            "Train Loss: 0.7750 | Val Loss: 0.7511 | Val Acc: 0.6615 | Val F1: 0.5970\n",
            "\n",
            "--- Epoch 37/50 ---\n"
          ]
        },
        {
          "output_type": "stream",
          "name": "stderr",
          "text": [
            "Training Fold 3: 100%|██████████| 280/280 [01:43<00:00,  2.70it/s, Loss=0.4810, Mask=0.25]\n"
          ]
        },
        {
          "output_type": "stream",
          "name": "stdout",
          "text": [
            "Train Loss: 0.7664 | Val Loss: 0.7538 | Val Acc: 0.6541 | Val F1: 0.5927\n",
            "\n",
            "--- Epoch 38/50 ---\n"
          ]
        },
        {
          "output_type": "stream",
          "name": "stderr",
          "text": [
            "Training Fold 3: 100%|██████████| 280/280 [01:44<00:00,  2.68it/s, Loss=1.3194, Mask=0.14]\n"
          ]
        },
        {
          "output_type": "stream",
          "name": "stdout",
          "text": [
            "Train Loss: 0.7806 | Val Loss: 0.7535 | Val Acc: 0.6635 | Val F1: 0.5925\n",
            "\n",
            "--- Epoch 39/50 ---\n"
          ]
        },
        {
          "output_type": "stream",
          "name": "stderr",
          "text": [
            "Training Fold 3: 100%|██████████| 280/280 [01:44<00:00,  2.68it/s, Loss=0.5648, Mask=0.21]\n"
          ]
        },
        {
          "output_type": "stream",
          "name": "stdout",
          "text": [
            "Train Loss: 0.7836 | Val Loss: 0.7500 | Val Acc: 0.6608 | Val F1: 0.5955\n",
            "\n",
            "--- Epoch 40/50 ---\n"
          ]
        },
        {
          "output_type": "stream",
          "name": "stderr",
          "text": [
            "Training Fold 3: 100%|██████████| 280/280 [01:44<00:00,  2.69it/s, Loss=0.8657, Mask=0.23]\n"
          ]
        },
        {
          "output_type": "stream",
          "name": "stdout",
          "text": [
            "Train Loss: 0.7728 | Val Loss: 0.7462 | Val Acc: 0.6723 | Val F1: 0.6180\n",
            "🎉 New best model for fold 3 saved to best_model_fold_3.pth with accuracy: 0.6723\n",
            "\n",
            "--- Epoch 41/50 ---\n"
          ]
        },
        {
          "output_type": "stream",
          "name": "stderr",
          "text": [
            "Training Fold 3: 100%|██████████| 280/280 [01:43<00:00,  2.71it/s, Loss=1.5426, Mask=0.21]\n"
          ]
        },
        {
          "output_type": "stream",
          "name": "stdout",
          "text": [
            "Train Loss: 0.7747 | Val Loss: 0.7538 | Val Acc: 0.6662 | Val F1: 0.5975\n",
            "\n",
            "--- Epoch 42/50 ---\n"
          ]
        },
        {
          "output_type": "stream",
          "name": "stderr",
          "text": [
            "Training Fold 3: 100%|██████████| 280/280 [01:44<00:00,  2.68it/s, Loss=0.7535, Mask=0.23]\n"
          ]
        },
        {
          "output_type": "stream",
          "name": "stdout",
          "text": [
            "Train Loss: 0.7872 | Val Loss: 0.7476 | Val Acc: 0.6642 | Val F1: 0.6082\n",
            "\n",
            "--- Epoch 43/50 ---\n"
          ]
        },
        {
          "output_type": "stream",
          "name": "stderr",
          "text": [
            "Training Fold 3: 100%|██████████| 280/280 [01:44<00:00,  2.67it/s, Loss=0.5336, Mask=0.17]\n"
          ]
        },
        {
          "output_type": "stream",
          "name": "stdout",
          "text": [
            "Train Loss: 0.7715 | Val Loss: 0.7481 | Val Acc: 0.6682 | Val F1: 0.6051\n",
            "\n",
            "--- Epoch 44/50 ---\n"
          ]
        },
        {
          "output_type": "stream",
          "name": "stderr",
          "text": [
            "Training Fold 3: 100%|██████████| 280/280 [01:43<00:00,  2.69it/s, Loss=1.3092, Mask=0.22]\n"
          ]
        },
        {
          "output_type": "stream",
          "name": "stdout",
          "text": [
            "Train Loss: 0.7707 | Val Loss: 0.7483 | Val Acc: 0.6649 | Val F1: 0.6022\n",
            "\n",
            "--- Epoch 45/50 ---\n"
          ]
        },
        {
          "output_type": "stream",
          "name": "stderr",
          "text": [
            "Training Fold 3: 100%|██████████| 280/280 [01:44<00:00,  2.69it/s, Loss=0.8759, Mask=0.30]\n"
          ]
        },
        {
          "output_type": "stream",
          "name": "stdout",
          "text": [
            "Train Loss: 0.7749 | Val Loss: 0.7549 | Val Acc: 0.6629 | Val F1: 0.5991\n",
            "\n",
            "--- Epoch 46/50 ---\n"
          ]
        },
        {
          "output_type": "stream",
          "name": "stderr",
          "text": [
            "Training Fold 3: 100%|██████████| 280/280 [01:44<00:00,  2.68it/s, Loss=0.4776, Mask=0.15]\n"
          ]
        },
        {
          "output_type": "stream",
          "name": "stdout",
          "text": [
            "Train Loss: 0.7727 | Val Loss: 0.7474 | Val Acc: 0.6669 | Val F1: 0.6055\n",
            "\n",
            "--- Epoch 47/50 ---\n"
          ]
        },
        {
          "output_type": "stream",
          "name": "stderr",
          "text": [
            "Training Fold 3: 100%|██████████| 280/280 [01:43<00:00,  2.71it/s, Loss=1.2064, Mask=0.25]\n"
          ]
        },
        {
          "output_type": "stream",
          "name": "stdout",
          "text": [
            "Train Loss: 0.7849 | Val Loss: 0.7508 | Val Acc: 0.6649 | Val F1: 0.6020\n",
            "\n",
            "--- Epoch 48/50 ---\n"
          ]
        },
        {
          "output_type": "stream",
          "name": "stderr",
          "text": [
            "Training Fold 3: 100%|██████████| 280/280 [01:43<00:00,  2.70it/s, Loss=0.7545, Mask=0.17]\n"
          ]
        },
        {
          "output_type": "stream",
          "name": "stdout",
          "text": [
            "Train Loss: 0.7746 | Val Loss: 0.7431 | Val Acc: 0.6696 | Val F1: 0.5992\n",
            "\n",
            "--- Epoch 49/50 ---\n"
          ]
        },
        {
          "output_type": "stream",
          "name": "stderr",
          "text": [
            "Training Fold 3: 100%|██████████| 280/280 [01:44<00:00,  2.69it/s, Loss=0.8034, Mask=0.17]\n"
          ]
        },
        {
          "output_type": "stream",
          "name": "stdout",
          "text": [
            "Train Loss: 0.7812 | Val Loss: 0.7475 | Val Acc: 0.6689 | Val F1: 0.6067\n",
            "\n",
            "--- Epoch 50/50 ---\n"
          ]
        },
        {
          "output_type": "stream",
          "name": "stderr",
          "text": [
            "Training Fold 3: 100%|██████████| 280/280 [01:43<00:00,  2.71it/s, Loss=0.9773, Mask=0.21]\n"
          ]
        },
        {
          "output_type": "stream",
          "name": "stdout",
          "text": [
            "Train Loss: 0.7717 | Val Loss: 0.7425 | Val Acc: 0.6629 | Val F1: 0.5912\n",
            "Finished training for fold 3. Best validation accuracy: 0.6723\n",
            "\n",
            "========================= FOLD 4/4 =========================\n",
            "Labeled training set size: 4467\n",
            "Validation set size: 1488\n",
            "\n",
            "Re-initializing model for new fold...\n",
            "\n",
            "--- Epoch 1/50 ---\n"
          ]
        },
        {
          "output_type": "stream",
          "name": "stderr",
          "text": [
            "Training Fold 4: 100%|██████████| 280/280 [01:44<00:00,  2.69it/s, Loss=0.6135, Mask=0.00]\n"
          ]
        },
        {
          "output_type": "stream",
          "name": "stdout",
          "text": [
            "Train Loss: 0.9994 | Val Loss: 0.9074 | Val Acc: 0.6277 | Val F1: 0.4419\n",
            "🎉 New best model for fold 4 saved to best_model_fold_4.pth with accuracy: 0.6277\n",
            "\n",
            "--- Epoch 2/50 ---\n"
          ]
        },
        {
          "output_type": "stream",
          "name": "stderr",
          "text": [
            "Training Fold 4: 100%|██████████| 280/280 [01:43<00:00,  2.72it/s, Loss=1.0530, Mask=0.02]\n"
          ]
        },
        {
          "output_type": "stream",
          "name": "stdout",
          "text": [
            "Train Loss: 0.8718 | Val Loss: 0.8280 | Val Acc: 0.6505 | Val F1: 0.5117\n",
            "🎉 New best model for fold 4 saved to best_model_fold_4.pth with accuracy: 0.6505\n",
            "\n",
            "--- Epoch 3/50 ---\n"
          ]
        },
        {
          "output_type": "stream",
          "name": "stderr",
          "text": [
            "Training Fold 4: 100%|██████████| 280/280 [01:43<00:00,  2.70it/s, Loss=0.7990, Mask=0.09]\n"
          ]
        },
        {
          "output_type": "stream",
          "name": "stdout",
          "text": [
            "Train Loss: 0.8427 | Val Loss: 0.8047 | Val Acc: 0.6774 | Val F1: 0.6380\n",
            "🎉 New best model for fold 4 saved to best_model_fold_4.pth with accuracy: 0.6774\n",
            "\n",
            "--- Epoch 4/50 ---\n"
          ]
        },
        {
          "output_type": "stream",
          "name": "stderr",
          "text": [
            "Training Fold 4: 100%|██████████| 280/280 [01:44<00:00,  2.69it/s, Loss=0.7289, Mask=0.07]\n"
          ]
        },
        {
          "output_type": "stream",
          "name": "stdout",
          "text": [
            "Train Loss: 0.8217 | Val Loss: 0.7751 | Val Acc: 0.6828 | Val F1: 0.6476\n",
            "🎉 New best model for fold 4 saved to best_model_fold_4.pth with accuracy: 0.6828\n",
            "\n",
            "--- Epoch 5/50 ---\n"
          ]
        },
        {
          "output_type": "stream",
          "name": "stderr",
          "text": [
            "Training Fold 4: 100%|██████████| 280/280 [01:43<00:00,  2.71it/s, Loss=1.3105, Mask=0.11]\n"
          ]
        },
        {
          "output_type": "stream",
          "name": "stdout",
          "text": [
            "Train Loss: 0.8102 | Val Loss: 0.7584 | Val Acc: 0.6875 | Val F1: 0.6616\n",
            "🎉 New best model for fold 4 saved to best_model_fold_4.pth with accuracy: 0.6875\n",
            "\n",
            "--- Epoch 6/50 ---\n"
          ]
        },
        {
          "output_type": "stream",
          "name": "stderr",
          "text": [
            "Training Fold 4: 100%|██████████| 280/280 [01:43<00:00,  2.71it/s, Loss=2.7369, Mask=0.14]\n"
          ]
        },
        {
          "output_type": "stream",
          "name": "stdout",
          "text": [
            "Train Loss: 0.8221 | Val Loss: 0.7493 | Val Acc: 0.6888 | Val F1: 0.6553\n",
            "🎉 New best model for fold 4 saved to best_model_fold_4.pth with accuracy: 0.6888\n",
            "\n",
            "--- Epoch 7/50 ---\n"
          ]
        },
        {
          "output_type": "stream",
          "name": "stderr",
          "text": [
            "Training Fold 4: 100%|██████████| 280/280 [01:43<00:00,  2.71it/s, Loss=1.3845, Mask=0.10]\n"
          ]
        },
        {
          "output_type": "stream",
          "name": "stdout",
          "text": [
            "Train Loss: 0.8194 | Val Loss: 0.7538 | Val Acc: 0.6888 | Val F1: 0.6566\n",
            "\n",
            "--- Epoch 8/50 ---\n"
          ]
        },
        {
          "output_type": "stream",
          "name": "stderr",
          "text": [
            "Training Fold 4: 100%|██████████| 280/280 [01:44<00:00,  2.69it/s, Loss=0.4460, Mask=0.12]\n"
          ]
        },
        {
          "output_type": "stream",
          "name": "stdout",
          "text": [
            "Train Loss: 0.8060 | Val Loss: 0.7429 | Val Acc: 0.6882 | Val F1: 0.6642\n",
            "\n",
            "--- Epoch 9/50 ---\n"
          ]
        },
        {
          "output_type": "stream",
          "name": "stderr",
          "text": [
            "Training Fold 4: 100%|██████████| 280/280 [01:43<00:00,  2.70it/s, Loss=0.7523, Mask=0.17]\n"
          ]
        },
        {
          "output_type": "stream",
          "name": "stdout",
          "text": [
            "Train Loss: 0.7959 | Val Loss: 0.7417 | Val Acc: 0.6976 | Val F1: 0.6835\n",
            "🎉 New best model for fold 4 saved to best_model_fold_4.pth with accuracy: 0.6976\n",
            "\n",
            "--- Epoch 10/50 ---\n"
          ]
        },
        {
          "output_type": "stream",
          "name": "stderr",
          "text": [
            "Training Fold 4: 100%|██████████| 280/280 [01:44<00:00,  2.68it/s, Loss=0.9410, Mask=0.14]\n"
          ]
        },
        {
          "output_type": "stream",
          "name": "stdout",
          "text": [
            "Train Loss: 0.8041 | Val Loss: 0.7370 | Val Acc: 0.6929 | Val F1: 0.6676\n",
            "\n",
            "--- Epoch 11/50 ---\n"
          ]
        },
        {
          "output_type": "stream",
          "name": "stderr",
          "text": [
            "Training Fold 4: 100%|██████████| 280/280 [01:44<00:00,  2.69it/s, Loss=1.3545, Mask=0.17]\n"
          ]
        },
        {
          "output_type": "stream",
          "name": "stdout",
          "text": [
            "Train Loss: 0.7930 | Val Loss: 0.7282 | Val Acc: 0.6895 | Val F1: 0.6711\n",
            "\n",
            "--- Epoch 12/50 ---\n"
          ]
        },
        {
          "output_type": "stream",
          "name": "stderr",
          "text": [
            "Training Fold 4: 100%|██████████| 280/280 [01:43<00:00,  2.71it/s, Loss=0.7483, Mask=0.16]\n"
          ]
        },
        {
          "output_type": "stream",
          "name": "stdout",
          "text": [
            "Train Loss: 0.7973 | Val Loss: 0.7277 | Val Acc: 0.6983 | Val F1: 0.6833\n",
            "🎉 New best model for fold 4 saved to best_model_fold_4.pth with accuracy: 0.6983\n",
            "\n",
            "--- Epoch 13/50 ---\n"
          ]
        },
        {
          "output_type": "stream",
          "name": "stderr",
          "text": [
            "Training Fold 4: 100%|██████████| 280/280 [01:44<00:00,  2.68it/s, Loss=0.9644, Mask=0.26]\n"
          ]
        },
        {
          "output_type": "stream",
          "name": "stdout",
          "text": [
            "Train Loss: 0.7889 | Val Loss: 0.7479 | Val Acc: 0.6922 | Val F1: 0.6701\n",
            "\n",
            "--- Epoch 14/50 ---\n"
          ]
        },
        {
          "output_type": "stream",
          "name": "stderr",
          "text": [
            "Training Fold 4: 100%|██████████| 280/280 [01:43<00:00,  2.71it/s, Loss=0.9257, Mask=0.18]\n"
          ]
        },
        {
          "output_type": "stream",
          "name": "stdout",
          "text": [
            "Train Loss: 0.7912 | Val Loss: 0.7401 | Val Acc: 0.6868 | Val F1: 0.6552\n",
            "\n",
            "--- Epoch 15/50 ---\n"
          ]
        },
        {
          "output_type": "stream",
          "name": "stderr",
          "text": [
            "Training Fold 4: 100%|██████████| 280/280 [01:43<00:00,  2.70it/s, Loss=0.9648, Mask=0.23]\n"
          ]
        },
        {
          "output_type": "stream",
          "name": "stdout",
          "text": [
            "Train Loss: 0.8069 | Val Loss: 0.7242 | Val Acc: 0.7009 | Val F1: 0.6766\n",
            "🎉 New best model for fold 4 saved to best_model_fold_4.pth with accuracy: 0.7009\n",
            "\n",
            "--- Epoch 16/50 ---\n"
          ]
        },
        {
          "output_type": "stream",
          "name": "stderr",
          "text": [
            "Training Fold 4: 100%|██████████| 280/280 [01:44<00:00,  2.68it/s, Loss=2.2005, Mask=0.19]\n"
          ]
        },
        {
          "output_type": "stream",
          "name": "stdout",
          "text": [
            "Train Loss: 0.7926 | Val Loss: 0.7301 | Val Acc: 0.7023 | Val F1: 0.6824\n",
            "🎉 New best model for fold 4 saved to best_model_fold_4.pth with accuracy: 0.7023\n",
            "\n",
            "--- Epoch 17/50 ---\n"
          ]
        },
        {
          "output_type": "stream",
          "name": "stderr",
          "text": [
            "Training Fold 4: 100%|██████████| 280/280 [01:44<00:00,  2.68it/s, Loss=1.1994, Mask=0.23]\n"
          ]
        },
        {
          "output_type": "stream",
          "name": "stdout",
          "text": [
            "Train Loss: 0.7870 | Val Loss: 0.7226 | Val Acc: 0.6962 | Val F1: 0.6767\n",
            "\n",
            "--- Epoch 18/50 ---\n"
          ]
        },
        {
          "output_type": "stream",
          "name": "stderr",
          "text": [
            "Training Fold 4: 100%|██████████| 280/280 [01:43<00:00,  2.70it/s, Loss=1.3431, Mask=0.24]\n"
          ]
        },
        {
          "output_type": "stream",
          "name": "stdout",
          "text": [
            "Train Loss: 0.7827 | Val Loss: 0.7137 | Val Acc: 0.7023 | Val F1: 0.6952\n",
            "\n",
            "--- Epoch 19/50 ---\n"
          ]
        },
        {
          "output_type": "stream",
          "name": "stderr",
          "text": [
            "Training Fold 4: 100%|██████████| 280/280 [01:44<00:00,  2.68it/s, Loss=2.6706, Mask=0.20]\n"
          ]
        },
        {
          "output_type": "stream",
          "name": "stdout",
          "text": [
            "Train Loss: 0.7981 | Val Loss: 0.7235 | Val Acc: 0.7030 | Val F1: 0.7004\n",
            "🎉 New best model for fold 4 saved to best_model_fold_4.pth with accuracy: 0.7030\n",
            "\n",
            "--- Epoch 20/50 ---\n"
          ]
        },
        {
          "output_type": "stream",
          "name": "stderr",
          "text": [
            "Training Fold 4: 100%|██████████| 280/280 [01:44<00:00,  2.69it/s, Loss=0.2960, Mask=0.20]\n"
          ]
        },
        {
          "output_type": "stream",
          "name": "stdout",
          "text": [
            "Train Loss: 0.7873 | Val Loss: 0.7334 | Val Acc: 0.6969 | Val F1: 0.6903\n",
            "\n",
            "--- Epoch 21/50 ---\n"
          ]
        },
        {
          "output_type": "stream",
          "name": "stderr",
          "text": [
            "Training Fold 4: 100%|██████████| 280/280 [01:44<00:00,  2.68it/s, Loss=1.0594, Mask=0.12]\n"
          ]
        },
        {
          "output_type": "stream",
          "name": "stdout",
          "text": [
            "Train Loss: 0.7954 | Val Loss: 0.7164 | Val Acc: 0.6976 | Val F1: 0.6932\n",
            "\n",
            "--- Epoch 22/50 ---\n"
          ]
        },
        {
          "output_type": "stream",
          "name": "stderr",
          "text": [
            "Training Fold 4: 100%|██████████| 280/280 [01:43<00:00,  2.70it/s, Loss=0.7480, Mask=0.21]\n"
          ]
        },
        {
          "output_type": "stream",
          "name": "stdout",
          "text": [
            "Train Loss: 0.7928 | Val Loss: 0.7215 | Val Acc: 0.7063 | Val F1: 0.7040\n",
            "🎉 New best model for fold 4 saved to best_model_fold_4.pth with accuracy: 0.7063\n",
            "\n",
            "--- Epoch 23/50 ---\n"
          ]
        },
        {
          "output_type": "stream",
          "name": "stderr",
          "text": [
            "Training Fold 4: 100%|██████████| 280/280 [01:44<00:00,  2.68it/s, Loss=0.9946, Mask=0.22]\n"
          ]
        },
        {
          "output_type": "stream",
          "name": "stdout",
          "text": [
            "Train Loss: 0.7817 | Val Loss: 0.7209 | Val Acc: 0.7070 | Val F1: 0.7088\n",
            "🎉 New best model for fold 4 saved to best_model_fold_4.pth with accuracy: 0.7070\n",
            "\n",
            "--- Epoch 24/50 ---\n"
          ]
        },
        {
          "output_type": "stream",
          "name": "stderr",
          "text": [
            "Training Fold 4: 100%|██████████| 280/280 [01:43<00:00,  2.69it/s, Loss=1.6456, Mask=0.18]\n"
          ]
        },
        {
          "output_type": "stream",
          "name": "stdout",
          "text": [
            "Train Loss: 0.7872 | Val Loss: 0.7152 | Val Acc: 0.7077 | Val F1: 0.6994\n",
            "🎉 New best model for fold 4 saved to best_model_fold_4.pth with accuracy: 0.7077\n",
            "\n",
            "--- Epoch 25/50 ---\n"
          ]
        },
        {
          "output_type": "stream",
          "name": "stderr",
          "text": [
            "Training Fold 4: 100%|██████████| 280/280 [01:44<00:00,  2.68it/s, Loss=1.3171, Mask=0.23]\n"
          ]
        },
        {
          "output_type": "stream",
          "name": "stdout",
          "text": [
            "Train Loss: 0.7777 | Val Loss: 0.7150 | Val Acc: 0.6969 | Val F1: 0.6890\n",
            "\n",
            "--- Epoch 26/50 ---\n"
          ]
        },
        {
          "output_type": "stream",
          "name": "stderr",
          "text": [
            "Training Fold 4: 100%|██████████| 280/280 [01:43<00:00,  2.70it/s, Loss=0.7846, Mask=0.20]\n"
          ]
        },
        {
          "output_type": "stream",
          "name": "stdout",
          "text": [
            "Train Loss: 0.7772 | Val Loss: 0.7182 | Val Acc: 0.7016 | Val F1: 0.6907\n",
            "\n",
            "--- Epoch 27/50 ---\n"
          ]
        },
        {
          "output_type": "stream",
          "name": "stderr",
          "text": [
            "Training Fold 4: 100%|██████████| 280/280 [01:44<00:00,  2.68it/s, Loss=2.3301, Mask=0.24]\n"
          ]
        },
        {
          "output_type": "stream",
          "name": "stdout",
          "text": [
            "Train Loss: 0.7885 | Val Loss: 0.7196 | Val Acc: 0.7077 | Val F1: 0.7025\n",
            "\n",
            "--- Epoch 28/50 ---\n"
          ]
        },
        {
          "output_type": "stream",
          "name": "stderr",
          "text": [
            "Training Fold 4: 100%|██████████| 280/280 [01:43<00:00,  2.69it/s, Loss=0.8015, Mask=0.17]\n"
          ]
        },
        {
          "output_type": "stream",
          "name": "stdout",
          "text": [
            "Train Loss: 0.7872 | Val Loss: 0.7163 | Val Acc: 0.7023 | Val F1: 0.6963\n",
            "\n",
            "--- Epoch 29/50 ---\n"
          ]
        },
        {
          "output_type": "stream",
          "name": "stderr",
          "text": [
            "Training Fold 4: 100%|██████████| 280/280 [01:43<00:00,  2.71it/s, Loss=0.3778, Mask=0.15]\n"
          ]
        },
        {
          "output_type": "stream",
          "name": "stdout",
          "text": [
            "Train Loss: 0.7837 | Val Loss: 0.7211 | Val Acc: 0.6922 | Val F1: 0.6797\n",
            "\n",
            "--- Epoch 30/50 ---\n"
          ]
        },
        {
          "output_type": "stream",
          "name": "stderr",
          "text": [
            "Training Fold 4: 100%|██████████| 280/280 [01:43<00:00,  2.69it/s, Loss=0.6274, Mask=0.20]\n"
          ]
        },
        {
          "output_type": "stream",
          "name": "stdout",
          "text": [
            "Train Loss: 0.7814 | Val Loss: 0.7150 | Val Acc: 0.7103 | Val F1: 0.7097\n",
            "🎉 New best model for fold 4 saved to best_model_fold_4.pth with accuracy: 0.7103\n",
            "\n",
            "--- Epoch 31/50 ---\n"
          ]
        },
        {
          "output_type": "stream",
          "name": "stderr",
          "text": [
            "Training Fold 4: 100%|██████████| 280/280 [01:44<00:00,  2.67it/s, Loss=0.7625, Mask=0.17]\n"
          ]
        },
        {
          "output_type": "stream",
          "name": "stdout",
          "text": [
            "Train Loss: 0.7825 | Val Loss: 0.7190 | Val Acc: 0.7050 | Val F1: 0.6996\n",
            "\n",
            "--- Epoch 32/50 ---\n"
          ]
        },
        {
          "output_type": "stream",
          "name": "stderr",
          "text": [
            "Training Fold 4: 100%|██████████| 280/280 [01:43<00:00,  2.71it/s, Loss=1.1979, Mask=0.26]\n"
          ]
        },
        {
          "output_type": "stream",
          "name": "stdout",
          "text": [
            "Train Loss: 0.7912 | Val Loss: 0.7164 | Val Acc: 0.7023 | Val F1: 0.6942\n",
            "\n",
            "--- Epoch 33/50 ---\n"
          ]
        },
        {
          "output_type": "stream",
          "name": "stderr",
          "text": [
            "Training Fold 4: 100%|██████████| 280/280 [01:43<00:00,  2.69it/s, Loss=0.4496, Mask=0.19]\n"
          ]
        },
        {
          "output_type": "stream",
          "name": "stdout",
          "text": [
            "Train Loss: 0.7790 | Val Loss: 0.7128 | Val Acc: 0.6996 | Val F1: 0.7011\n",
            "\n",
            "--- Epoch 34/50 ---\n"
          ]
        },
        {
          "output_type": "stream",
          "name": "stderr",
          "text": [
            "Training Fold 4: 100%|██████████| 280/280 [01:43<00:00,  2.70it/s, Loss=1.1295, Mask=0.21]\n"
          ]
        },
        {
          "output_type": "stream",
          "name": "stdout",
          "text": [
            "Train Loss: 0.7853 | Val Loss: 0.7118 | Val Acc: 0.7070 | Val F1: 0.7041\n",
            "\n",
            "--- Epoch 35/50 ---\n"
          ]
        },
        {
          "output_type": "stream",
          "name": "stderr",
          "text": [
            "Training Fold 4: 100%|██████████| 280/280 [01:44<00:00,  2.68it/s, Loss=0.7349, Mask=0.19]\n"
          ]
        },
        {
          "output_type": "stream",
          "name": "stdout",
          "text": [
            "Train Loss: 0.7978 | Val Loss: 0.7160 | Val Acc: 0.6996 | Val F1: 0.6958\n",
            "\n",
            "--- Epoch 36/50 ---\n"
          ]
        },
        {
          "output_type": "stream",
          "name": "stderr",
          "text": [
            "Training Fold 4: 100%|██████████| 280/280 [01:44<00:00,  2.69it/s, Loss=0.6499, Mask=0.22]\n"
          ]
        },
        {
          "output_type": "stream",
          "name": "stdout",
          "text": [
            "Train Loss: 0.7813 | Val Loss: 0.7146 | Val Acc: 0.7050 | Val F1: 0.7016\n",
            "\n",
            "--- Epoch 37/50 ---\n"
          ]
        },
        {
          "output_type": "stream",
          "name": "stderr",
          "text": [
            "Training Fold 4: 100%|██████████| 280/280 [01:44<00:00,  2.69it/s, Loss=1.7925, Mask=0.19]\n"
          ]
        },
        {
          "output_type": "stream",
          "name": "stdout",
          "text": [
            "Train Loss: 0.7859 | Val Loss: 0.7157 | Val Acc: 0.7043 | Val F1: 0.7049\n",
            "\n",
            "--- Epoch 38/50 ---\n"
          ]
        },
        {
          "output_type": "stream",
          "name": "stderr",
          "text": [
            "Training Fold 4: 100%|██████████| 280/280 [01:44<00:00,  2.68it/s, Loss=0.5878, Mask=0.19]\n"
          ]
        },
        {
          "output_type": "stream",
          "name": "stdout",
          "text": [
            "Train Loss: 0.7700 | Val Loss: 0.7117 | Val Acc: 0.7036 | Val F1: 0.7005\n",
            "\n",
            "--- Epoch 39/50 ---\n"
          ]
        },
        {
          "output_type": "stream",
          "name": "stderr",
          "text": [
            "Training Fold 4: 100%|██████████| 280/280 [01:44<00:00,  2.68it/s, Loss=0.7676, Mask=0.25]\n"
          ]
        },
        {
          "output_type": "stream",
          "name": "stdout",
          "text": [
            "Train Loss: 0.7798 | Val Loss: 0.7065 | Val Acc: 0.7070 | Val F1: 0.7025\n",
            "\n",
            "--- Epoch 40/50 ---\n"
          ]
        },
        {
          "output_type": "stream",
          "name": "stderr",
          "text": [
            "Training Fold 4: 100%|██████████| 280/280 [01:44<00:00,  2.68it/s, Loss=1.7287, Mask=0.24]\n"
          ]
        },
        {
          "output_type": "stream",
          "name": "stdout",
          "text": [
            "Train Loss: 0.7826 | Val Loss: 0.7120 | Val Acc: 0.7030 | Val F1: 0.7058\n",
            "\n",
            "--- Epoch 41/50 ---\n"
          ]
        },
        {
          "output_type": "stream",
          "name": "stderr",
          "text": [
            "Training Fold 4: 100%|██████████| 280/280 [01:44<00:00,  2.68it/s, Loss=0.4043, Mask=0.18]\n"
          ]
        },
        {
          "output_type": "stream",
          "name": "stdout",
          "text": [
            "Train Loss: 0.7771 | Val Loss: 0.7206 | Val Acc: 0.6983 | Val F1: 0.6909\n",
            "\n",
            "--- Epoch 42/50 ---\n"
          ]
        },
        {
          "output_type": "stream",
          "name": "stderr",
          "text": [
            "Training Fold 4: 100%|██████████| 280/280 [01:45<00:00,  2.65it/s, Loss=0.8768, Mask=0.18]\n"
          ]
        },
        {
          "output_type": "stream",
          "name": "stdout",
          "text": [
            "Train Loss: 0.7781 | Val Loss: 0.7073 | Val Acc: 0.7023 | Val F1: 0.7010\n",
            "\n",
            "--- Epoch 43/50 ---\n"
          ]
        },
        {
          "output_type": "stream",
          "name": "stderr",
          "text": [
            "Training Fold 4: 100%|██████████| 280/280 [01:44<00:00,  2.69it/s, Loss=0.4247, Mask=0.16]\n"
          ]
        },
        {
          "output_type": "stream",
          "name": "stdout",
          "text": [
            "Train Loss: 0.7780 | Val Loss: 0.7126 | Val Acc: 0.7063 | Val F1: 0.7081\n",
            "\n",
            "--- Epoch 44/50 ---\n"
          ]
        },
        {
          "output_type": "stream",
          "name": "stderr",
          "text": [
            "Training Fold 4: 100%|██████████| 280/280 [01:43<00:00,  2.72it/s, Loss=0.3693, Mask=0.23]\n"
          ]
        },
        {
          "output_type": "stream",
          "name": "stdout",
          "text": [
            "Train Loss: 0.7726 | Val Loss: 0.7177 | Val Acc: 0.7009 | Val F1: 0.7017\n",
            "\n",
            "--- Epoch 45/50 ---\n"
          ]
        },
        {
          "output_type": "stream",
          "name": "stderr",
          "text": [
            "Training Fold 4: 100%|██████████| 280/280 [01:44<00:00,  2.67it/s, Loss=1.9267, Mask=0.21]\n"
          ]
        },
        {
          "output_type": "stream",
          "name": "stdout",
          "text": [
            "Train Loss: 0.7874 | Val Loss: 0.7086 | Val Acc: 0.7009 | Val F1: 0.6913\n",
            "\n",
            "--- Epoch 46/50 ---\n"
          ]
        },
        {
          "output_type": "stream",
          "name": "stderr",
          "text": [
            "Training Fold 4: 100%|██████████| 280/280 [01:43<00:00,  2.71it/s, Loss=1.4707, Mask=0.17]\n"
          ]
        },
        {
          "output_type": "stream",
          "name": "stdout",
          "text": [
            "Train Loss: 0.7878 | Val Loss: 0.7169 | Val Acc: 0.6996 | Val F1: 0.7035\n",
            "\n",
            "--- Epoch 47/50 ---\n"
          ]
        },
        {
          "output_type": "stream",
          "name": "stderr",
          "text": [
            "Training Fold 4: 100%|██████████| 280/280 [01:43<00:00,  2.70it/s, Loss=0.5044, Mask=0.22]\n"
          ]
        },
        {
          "output_type": "stream",
          "name": "stdout",
          "text": [
            "Train Loss: 0.7953 | Val Loss: 0.7118 | Val Acc: 0.7016 | Val F1: 0.7041\n",
            "\n",
            "--- Epoch 48/50 ---\n"
          ]
        },
        {
          "output_type": "stream",
          "name": "stderr",
          "text": [
            "Training Fold 4: 100%|██████████| 280/280 [01:43<00:00,  2.72it/s, Loss=0.9199, Mask=0.23]\n"
          ]
        },
        {
          "output_type": "stream",
          "name": "stdout",
          "text": [
            "Train Loss: 0.7862 | Val Loss: 0.7106 | Val Acc: 0.6989 | Val F1: 0.7041\n",
            "\n",
            "--- Epoch 49/50 ---\n"
          ]
        },
        {
          "output_type": "stream",
          "name": "stderr",
          "text": [
            "Training Fold 4: 100%|██████████| 280/280 [01:43<00:00,  2.70it/s, Loss=1.8596, Mask=0.27]\n"
          ]
        },
        {
          "output_type": "stream",
          "name": "stdout",
          "text": [
            "Train Loss: 0.7835 | Val Loss: 0.7120 | Val Acc: 0.7050 | Val F1: 0.7024\n",
            "\n",
            "--- Epoch 50/50 ---\n"
          ]
        },
        {
          "output_type": "stream",
          "name": "stderr",
          "text": [
            "Training Fold 4: 100%|██████████| 280/280 [01:43<00:00,  2.71it/s, Loss=1.0333, Mask=0.21]\n"
          ]
        },
        {
          "output_type": "stream",
          "name": "stdout",
          "text": [
            "Train Loss: 0.7832 | Val Loss: 0.7131 | Val Acc: 0.7023 | Val F1: 0.6931\n",
            "Finished training for fold 4. Best validation accuracy: 0.7103\n",
            "\n",
            "\n",
            "=======================================================\n",
            "✅ CROSS-VALIDATION TRAINING COMPLETE\n",
            "=======================================================\n",
            "Best Validation Accuracy for fold_1: 0.6884\n",
            "Best Validation Accuracy for fold_2: 0.6884\n",
            "Best Validation Accuracy for fold_3: 0.6723\n",
            "Best Validation Accuracy for fold_4: 0.7103\n",
            "\n",
            "Average Best Validation Accuracy across all folds: 0.6898\n"
          ]
        }
      ]
    },
    {
      "cell_type": "markdown",
      "source": [
        "# Creating prediction CSV file for DFUC2021 evaluation"
      ],
      "metadata": {
        "id": "ZfOZeQfEwtHw"
      }
    },
    {
      "cell_type": "code",
      "source": [
        "print(\"\\n\\n\" + \"=\"*55)\n",
        "print(\"🚀 STARTING PREDICTION ON TEST SET\")\n",
        "print(\"=\"*55)\n",
        "\n",
        "TEST_IMG_DIR = '/content/dfu_test/DFUC2021_test'\n",
        "OUTPUT_CSV_PATH = 'submission_ensemble_4-fold.csv'\n",
        "MODEL_PATHS = [f\"best_model_fold_{i}.pth\" for i in range(1, N_SPLITS + 1)]\n",
        "\n",
        "print(\"--- Prediction Script using 4-Fold Ensemble (Averaging Probabilities) ---\")\n",
        "print(f\"Models to be used for ensemble: {MODEL_PATHS}\")\n",
        "\n",
        "# Create Test Dataset and DataLoader\n",
        "class TestDataset(Dataset):\n",
        "    def __init__(self, image_files, img_dir, transform):\n",
        "        self.image_files = image_files\n",
        "        self.img_dir = img_dir\n",
        "        self.transform = transform\n",
        "    def __len__(self):\n",
        "        return len(self.image_files)\n",
        "    def __getitem__(self, idx):\n",
        "        fname = self.image_files[idx]\n",
        "        img_path = os.path.join(self.img_dir, fname)\n",
        "        image = Image.open(img_path).convert(\"RGB\")\n",
        "        image = self.transform(image)\n",
        "        return image, fname\n",
        "\n",
        "transform_test = transforms.Compose([\n",
        "    transforms.Resize((IMG_HEIGHT, IMG_WIDTH)),\n",
        "    transforms.ToTensor(),\n",
        "    transforms.Normalize(mean=mean, std=std)\n",
        "])\n",
        "\n",
        "if not os.path.isdir(TEST_IMG_DIR):\n",
        "    print(f\"ERROR: Test image directory not found at '{TEST_IMG_DIR}'\")\n",
        "else:\n",
        "    test_image_files = sorted([f for f in os.listdir(TEST_IMG_DIR) if f.endswith(('.jpg', '.jpeg', '.png'))])\n",
        "    print(f\"Found {len(test_image_files)} images in the test directory.\")\n",
        "    test_dataset = TestDataset(test_image_files, TEST_IMG_DIR, transform_test)\n",
        "    test_loader = DataLoader(test_dataset, batch_size=BATCH_SIZE, shuffle=False, num_workers=2)\n",
        "\n",
        "    # Generate Predictions from Each Model\n",
        "    all_fold_probs = []\n",
        "    for fold_num, model_path in enumerate(MODEL_PATHS):\n",
        "        print(f\"\\n--- Generating predictions with model from Fold {fold_num + 1} ---\")\n",
        "        model = create_model(num_classes=NUM_CLASSES)\n",
        "        try:\n",
        "            model.load_state_dict(torch.load(model_path, map_location=DEVICE))\n",
        "        except FileNotFoundError:\n",
        "            print(f\"ERROR: Model file not found at {model_path}. Skipping this fold.\")\n",
        "            continue\n",
        "\n",
        "        model.to(DEVICE)\n",
        "        model.eval()\n",
        "        fold_probs = []\n",
        "        with torch.no_grad():\n",
        "            for images, fnames in tqdm(test_loader):\n",
        "                images = images.to(DEVICE)\n",
        "                outputs = model(images)\n",
        "                probs = torch.softmax(outputs, dim=1)\n",
        "                fold_probs.append(probs.cpu().numpy())\n",
        "        all_fold_probs.append(np.concatenate(fold_probs, axis=0))\n",
        "\n",
        "    # Average the Probabilities and Create Submission File\n",
        "    if not all_fold_probs:\n",
        "        print(\"No predictions were generated. Exiting.\")\n",
        "    else:\n",
        "        print(\"\\n✨ Averaging probabilities across all folds...\")\n",
        "        avg_probs = np.mean(all_fold_probs, axis=0)\n",
        "        submission_df = pd.DataFrame()\n",
        "        submission_df['image'] = test_image_files\n",
        "        for i, class_name in enumerate(CLASS_NAMES):\n",
        "            submission_df[class_name] = avg_probs[:, i]\n",
        "\n",
        "        submission_df.to_csv(OUTPUT_CSV_PATH, index=False)\n",
        "        print(f\"\\n--- Prediction Complete! ---\")\n",
        "        print(f\"Ensemble submission file created at: {OUTPUT_CSV_PATH}\")\n",
        "        print(\"\\nFirst 5 rows of the submission file:\")\n",
        "        print(submission_df.head())"
      ],
      "metadata": {
        "colab": {
          "base_uri": "https://localhost:8080/"
        },
        "id": "xAJv2R9-2XjJ",
        "outputId": "ecf677c3-1fa5-4f5b-f9ae-4c10dd3fa7ee"
      },
      "execution_count": null,
      "outputs": [
        {
          "output_type": "stream",
          "name": "stdout",
          "text": [
            "\n",
            "\n",
            "=======================================================\n",
            "🚀 STARTING PREDICTION ON TEST SET\n",
            "=======================================================\n",
            "--- Prediction Script using 4-Fold Ensemble (Averaging Probabilities) ---\n",
            "Models to be used for ensemble: ['best_model_fold_1.pth', 'best_model_fold_2.pth', 'best_model_fold_3.pth', 'best_model_fold_4.pth']\n",
            "Found 5734 images in the test directory.\n",
            "\n",
            "--- Generating predictions with model from Fold 1 ---\n"
          ]
        },
        {
          "output_type": "stream",
          "name": "stderr",
          "text": [
            "100%|██████████| 359/359 [00:07<00:00, 44.94it/s]\n"
          ]
        },
        {
          "output_type": "stream",
          "name": "stdout",
          "text": [
            "\n",
            "--- Generating predictions with model from Fold 2 ---\n"
          ]
        },
        {
          "output_type": "stream",
          "name": "stderr",
          "text": [
            "100%|██████████| 359/359 [00:07<00:00, 47.97it/s]\n"
          ]
        },
        {
          "output_type": "stream",
          "name": "stdout",
          "text": [
            "\n",
            "--- Generating predictions with model from Fold 3 ---\n"
          ]
        },
        {
          "output_type": "stream",
          "name": "stderr",
          "text": [
            "100%|██████████| 359/359 [00:07<00:00, 47.46it/s]\n"
          ]
        },
        {
          "output_type": "stream",
          "name": "stdout",
          "text": [
            "\n",
            "--- Generating predictions with model from Fold 4 ---\n"
          ]
        },
        {
          "output_type": "stream",
          "name": "stderr",
          "text": [
            "100%|██████████| 359/359 [00:08<00:00, 44.49it/s]"
          ]
        },
        {
          "output_type": "stream",
          "name": "stdout",
          "text": [
            "\n",
            "✨ Averaging probabilities across all folds...\n",
            "\n",
            "--- Prediction Complete! ---\n",
            "Ensemble submission file created at: submission_ensemble_4-fold.csv\n",
            "\n",
            "First 5 rows of the submission file:\n",
            "        image      none  infection  ischaemia      both\n",
            "0  501000.jpg  0.153091   0.492121   0.033228  0.321560\n",
            "1  501001.jpg  0.058244   0.060292   0.645323  0.236142\n",
            "2  501002.jpg  0.749864   0.232756   0.008151  0.009230\n",
            "3  501003.jpg  0.729455   0.260079   0.007775  0.002691\n",
            "4  501004.jpg  0.178082   0.693760   0.032411  0.095748\n"
          ]
        },
        {
          "output_type": "stream",
          "name": "stderr",
          "text": [
            "\n"
          ]
        }
      ]
    }
  ]
}